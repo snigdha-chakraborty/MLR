{
 "cells": [
  {
   "cell_type": "markdown",
   "metadata": {
    "id": "UXJRVFoChivo"
   },
   "source": [
    "## Car Price Prediction using Linear, Ridge and Lasso Regression\n",
    "\n",
    "The solution is divided into the following sections: \n",
    "- Data understanding and exploration\n",
    "- Data cleaning\n",
    "- Data preparation\n",
    "- Model building and evaluation\n"
   ]
  },
  {
   "cell_type": "markdown",
   "metadata": {
    "id": "C2WCr1WHhiv0"
   },
   "source": [
    "### 1. Data Understanding and Exploration\n",
    "\n",
    "Let's first have a look at the dataset and understand the size, attribute names etc."
   ]
  },
  {
   "cell_type": "code",
   "execution_count": 1,
   "metadata": {
    "id": "JneupLcWhiv1"
   },
   "outputs": [],
   "source": [
    "import numpy as np\n",
    "import pandas as pd\n",
    "import matplotlib.pyplot as plt\n",
    "import seaborn as sns\n",
    "from sklearn import linear_model, metrics\n",
    "from sklearn.linear_model import LinearRegression\n",
    "from sklearn.linear_model import Ridge\n",
    "from sklearn.linear_model import Lasso\n",
    "from sklearn.model_selection import GridSearchCV\n",
    "from sklearn.metrics import mean_squared_error, r2_score\n",
    "\n",
    "import os\n",
    "\n",
    "# hide warnings\n",
    "import warnings\n",
    "warnings.filterwarnings('ignore')\n"
   ]
  },
  {
   "cell_type": "code",
   "execution_count": 2,
   "metadata": {
    "id": "Owplbz5lhiv2"
   },
   "outputs": [],
   "source": [
    "# reading the dataset\n",
    "cars = pd.read_csv(\"CarPrice_Assignment.csv\")"
   ]
  },
  {
   "cell_type": "code",
   "execution_count": 3,
   "metadata": {
    "id": "kw7wTFqnhiv3",
    "outputId": "b046113b-a8c9-42bd-ec2c-a5bcf5efd7cc"
   },
   "outputs": [
    {
     "name": "stdout",
     "output_type": "stream",
     "text": [
      "<class 'pandas.core.frame.DataFrame'>\n",
      "RangeIndex: 205 entries, 0 to 204\n",
      "Data columns (total 26 columns):\n",
      "car_ID              205 non-null int64\n",
      "symboling           205 non-null int64\n",
      "CarName             205 non-null object\n",
      "fueltype            205 non-null object\n",
      "aspiration          205 non-null object\n",
      "doornumber          205 non-null object\n",
      "carbody             205 non-null object\n",
      "drivewheel          205 non-null object\n",
      "enginelocation      205 non-null object\n",
      "wheelbase           205 non-null float64\n",
      "carlength           205 non-null float64\n",
      "carwidth            205 non-null float64\n",
      "carheight           205 non-null float64\n",
      "curbweight          205 non-null int64\n",
      "enginetype          205 non-null object\n",
      "cylindernumber      205 non-null object\n",
      "enginesize          205 non-null int64\n",
      "fuelsystem          205 non-null object\n",
      "boreratio           205 non-null float64\n",
      "stroke              205 non-null float64\n",
      "compressionratio    205 non-null float64\n",
      "horsepower          205 non-null int64\n",
      "peakrpm             205 non-null int64\n",
      "citympg             205 non-null int64\n",
      "highwaympg          205 non-null int64\n",
      "price               205 non-null float64\n",
      "dtypes: float64(8), int64(8), object(10)\n",
      "memory usage: 41.8+ KB\n",
      "None\n"
     ]
    }
   ],
   "source": [
    "# summary of the dataset: 205 rows, 26 columns, no null values\n",
    "print(cars.info())"
   ]
  },
  {
   "cell_type": "code",
   "execution_count": 4,
   "metadata": {
    "id": "j0fOS89lhiv5",
    "outputId": "20e35244-5fed-41d0-bdbb-206f558f9b18"
   },
   "outputs": [
    {
     "data": {
      "text/html": [
       "<div>\n",
       "<style scoped>\n",
       "    .dataframe tbody tr th:only-of-type {\n",
       "        vertical-align: middle;\n",
       "    }\n",
       "\n",
       "    .dataframe tbody tr th {\n",
       "        vertical-align: top;\n",
       "    }\n",
       "\n",
       "    .dataframe thead th {\n",
       "        text-align: right;\n",
       "    }\n",
       "</style>\n",
       "<table border=\"1\" class=\"dataframe\">\n",
       "  <thead>\n",
       "    <tr style=\"text-align: right;\">\n",
       "      <th></th>\n",
       "      <th>car_ID</th>\n",
       "      <th>symboling</th>\n",
       "      <th>CarName</th>\n",
       "      <th>fueltype</th>\n",
       "      <th>aspiration</th>\n",
       "      <th>doornumber</th>\n",
       "      <th>carbody</th>\n",
       "      <th>drivewheel</th>\n",
       "      <th>enginelocation</th>\n",
       "      <th>wheelbase</th>\n",
       "      <th>...</th>\n",
       "      <th>enginesize</th>\n",
       "      <th>fuelsystem</th>\n",
       "      <th>boreratio</th>\n",
       "      <th>stroke</th>\n",
       "      <th>compressionratio</th>\n",
       "      <th>horsepower</th>\n",
       "      <th>peakrpm</th>\n",
       "      <th>citympg</th>\n",
       "      <th>highwaympg</th>\n",
       "      <th>price</th>\n",
       "    </tr>\n",
       "  </thead>\n",
       "  <tbody>\n",
       "    <tr>\n",
       "      <td>0</td>\n",
       "      <td>1</td>\n",
       "      <td>3</td>\n",
       "      <td>alfa-romero giulia</td>\n",
       "      <td>gas</td>\n",
       "      <td>std</td>\n",
       "      <td>two</td>\n",
       "      <td>convertible</td>\n",
       "      <td>rwd</td>\n",
       "      <td>front</td>\n",
       "      <td>88.6</td>\n",
       "      <td>...</td>\n",
       "      <td>130</td>\n",
       "      <td>mpfi</td>\n",
       "      <td>3.47</td>\n",
       "      <td>2.68</td>\n",
       "      <td>9.0</td>\n",
       "      <td>111</td>\n",
       "      <td>5000</td>\n",
       "      <td>21</td>\n",
       "      <td>27</td>\n",
       "      <td>13495.0</td>\n",
       "    </tr>\n",
       "    <tr>\n",
       "      <td>1</td>\n",
       "      <td>2</td>\n",
       "      <td>3</td>\n",
       "      <td>alfa-romero stelvio</td>\n",
       "      <td>gas</td>\n",
       "      <td>std</td>\n",
       "      <td>two</td>\n",
       "      <td>convertible</td>\n",
       "      <td>rwd</td>\n",
       "      <td>front</td>\n",
       "      <td>88.6</td>\n",
       "      <td>...</td>\n",
       "      <td>130</td>\n",
       "      <td>mpfi</td>\n",
       "      <td>3.47</td>\n",
       "      <td>2.68</td>\n",
       "      <td>9.0</td>\n",
       "      <td>111</td>\n",
       "      <td>5000</td>\n",
       "      <td>21</td>\n",
       "      <td>27</td>\n",
       "      <td>16500.0</td>\n",
       "    </tr>\n",
       "    <tr>\n",
       "      <td>2</td>\n",
       "      <td>3</td>\n",
       "      <td>1</td>\n",
       "      <td>alfa-romero Quadrifoglio</td>\n",
       "      <td>gas</td>\n",
       "      <td>std</td>\n",
       "      <td>two</td>\n",
       "      <td>hatchback</td>\n",
       "      <td>rwd</td>\n",
       "      <td>front</td>\n",
       "      <td>94.5</td>\n",
       "      <td>...</td>\n",
       "      <td>152</td>\n",
       "      <td>mpfi</td>\n",
       "      <td>2.68</td>\n",
       "      <td>3.47</td>\n",
       "      <td>9.0</td>\n",
       "      <td>154</td>\n",
       "      <td>5000</td>\n",
       "      <td>19</td>\n",
       "      <td>26</td>\n",
       "      <td>16500.0</td>\n",
       "    </tr>\n",
       "    <tr>\n",
       "      <td>3</td>\n",
       "      <td>4</td>\n",
       "      <td>2</td>\n",
       "      <td>audi 100 ls</td>\n",
       "      <td>gas</td>\n",
       "      <td>std</td>\n",
       "      <td>four</td>\n",
       "      <td>sedan</td>\n",
       "      <td>fwd</td>\n",
       "      <td>front</td>\n",
       "      <td>99.8</td>\n",
       "      <td>...</td>\n",
       "      <td>109</td>\n",
       "      <td>mpfi</td>\n",
       "      <td>3.19</td>\n",
       "      <td>3.40</td>\n",
       "      <td>10.0</td>\n",
       "      <td>102</td>\n",
       "      <td>5500</td>\n",
       "      <td>24</td>\n",
       "      <td>30</td>\n",
       "      <td>13950.0</td>\n",
       "    </tr>\n",
       "    <tr>\n",
       "      <td>4</td>\n",
       "      <td>5</td>\n",
       "      <td>2</td>\n",
       "      <td>audi 100ls</td>\n",
       "      <td>gas</td>\n",
       "      <td>std</td>\n",
       "      <td>four</td>\n",
       "      <td>sedan</td>\n",
       "      <td>4wd</td>\n",
       "      <td>front</td>\n",
       "      <td>99.4</td>\n",
       "      <td>...</td>\n",
       "      <td>136</td>\n",
       "      <td>mpfi</td>\n",
       "      <td>3.19</td>\n",
       "      <td>3.40</td>\n",
       "      <td>8.0</td>\n",
       "      <td>115</td>\n",
       "      <td>5500</td>\n",
       "      <td>18</td>\n",
       "      <td>22</td>\n",
       "      <td>17450.0</td>\n",
       "    </tr>\n",
       "  </tbody>\n",
       "</table>\n",
       "<p>5 rows × 26 columns</p>\n",
       "</div>"
      ],
      "text/plain": [
       "   car_ID  symboling                   CarName fueltype aspiration doornumber  \\\n",
       "0       1          3        alfa-romero giulia      gas        std        two   \n",
       "1       2          3       alfa-romero stelvio      gas        std        two   \n",
       "2       3          1  alfa-romero Quadrifoglio      gas        std        two   \n",
       "3       4          2               audi 100 ls      gas        std       four   \n",
       "4       5          2                audi 100ls      gas        std       four   \n",
       "\n",
       "       carbody drivewheel enginelocation  wheelbase  ...  enginesize  \\\n",
       "0  convertible        rwd          front       88.6  ...         130   \n",
       "1  convertible        rwd          front       88.6  ...         130   \n",
       "2    hatchback        rwd          front       94.5  ...         152   \n",
       "3        sedan        fwd          front       99.8  ...         109   \n",
       "4        sedan        4wd          front       99.4  ...         136   \n",
       "\n",
       "   fuelsystem  boreratio  stroke compressionratio horsepower  peakrpm citympg  \\\n",
       "0        mpfi       3.47    2.68              9.0        111     5000      21   \n",
       "1        mpfi       3.47    2.68              9.0        111     5000      21   \n",
       "2        mpfi       2.68    3.47              9.0        154     5000      19   \n",
       "3        mpfi       3.19    3.40             10.0        102     5500      24   \n",
       "4        mpfi       3.19    3.40              8.0        115     5500      18   \n",
       "\n",
       "   highwaympg    price  \n",
       "0          27  13495.0  \n",
       "1          27  16500.0  \n",
       "2          26  16500.0  \n",
       "3          30  13950.0  \n",
       "4          22  17450.0  \n",
       "\n",
       "[5 rows x 26 columns]"
      ]
     },
     "execution_count": 4,
     "metadata": {},
     "output_type": "execute_result"
    }
   ],
   "source": [
    "# head\n",
    "cars.head()"
   ]
  },
  {
   "cell_type": "markdown",
   "metadata": {
    "id": "wg_CQgLwhiv5"
   },
   "source": [
    "#### Understanding the Data Dictionary\n",
    "\n",
    "The data dictionary contains the meaning of various attributes; some non-obvious ones are:"
   ]
  },
  {
   "cell_type": "code",
   "execution_count": 5,
   "metadata": {
    "id": "HmIgoucOhiv6",
    "outputId": "bd7b20be-5dda-4bd3-f10c-2932ab94f51c"
   },
   "outputs": [
    {
     "data": {
      "text/plain": [
       " 0    67\n",
       " 1    54\n",
       " 2    32\n",
       " 3    27\n",
       "-1    22\n",
       "-2     3\n",
       "Name: symboling, dtype: int64"
      ]
     },
     "execution_count": 5,
     "metadata": {},
     "output_type": "execute_result"
    }
   ],
   "source": [
    "# symboling: -2 (least risky) to +3 most risky\n",
    "# Most cars are 0,1,2\n",
    "cars['symboling'].astype('category').value_counts()"
   ]
  },
  {
   "cell_type": "code",
   "execution_count": 6,
   "metadata": {
    "id": "pWsiRt8bhiv7",
    "outputId": "5f54baf9-b463-4bb1-cfd8-688cc8a94861"
   },
   "outputs": [
    {
     "data": {
      "text/plain": [
       "std      168\n",
       "turbo     37\n",
       "Name: aspiration, dtype: int64"
      ]
     },
     "execution_count": 6,
     "metadata": {},
     "output_type": "execute_result"
    }
   ],
   "source": [
    "# aspiration: An (internal combustion) engine property showing \n",
    "# whether the oxygen intake is through standard (atmospheric pressure)\n",
    "# or through turbocharging (pressurised oxygen intake)\n",
    "\n",
    "cars['aspiration'].astype('category').value_counts()"
   ]
  },
  {
   "cell_type": "code",
   "execution_count": 7,
   "metadata": {
    "id": "_OmJr0Oyhiv7",
    "outputId": "f6a15214-06b0-46f9-d5c6-7e3ad0188e77"
   },
   "outputs": [
    {
     "data": {
      "text/plain": [
       "fwd    120\n",
       "rwd     76\n",
       "4wd      9\n",
       "Name: drivewheel, dtype: int64"
      ]
     },
     "execution_count": 7,
     "metadata": {},
     "output_type": "execute_result"
    }
   ],
   "source": [
    "# drivewheel: frontwheel, rearwheel or four-wheel drive \n",
    "cars['drivewheel'].astype('category').value_counts()"
   ]
  },
  {
   "cell_type": "code",
   "execution_count": 8,
   "metadata": {
    "id": "ccViBAjihiv8",
    "outputId": "da9478b3-7954-48bc-847b-09bc2e7e02f0"
   },
   "outputs": [
    {
     "data": {
      "image/png": "[encoded data removed]",
      "text/plain": [
       "<Figure size 432x288 with 1 Axes>"
      ]
     },
     "metadata": {
      "needs_background": "light"
     },
     "output_type": "display_data"
    }
   ],
   "source": [
    "# wheelbase: distance between centre of front and rarewheels\n",
    "sns.distplot(cars['wheelbase'])\n",
    "plt.show()"
   ]
  },
  {
   "cell_type": "code",
   "execution_count": 9,
   "metadata": {
    "id": "KZ4UtJlqhiv8",
    "outputId": "a0f00f76-eb00-48bd-f4fe-15f203c4ae73"
   },
   "outputs": [
    {
     "data": {
      "image/png": "[encoded data removed]",
      "text/plain": [
       "<Figure size 432x288 with 1 Axes>"
      ]
     },
     "metadata": {
      "needs_background": "light"
     },
     "output_type": "display_data"
    }
   ],
   "source": [
    "# curbweight: weight of car without occupants or baggage\n",
    "sns.distplot(cars['curbweight'])\n",
    "plt.show()"
   ]
  },
  {
   "cell_type": "code",
   "execution_count": 10,
   "metadata": {
    "id": "eg8tdRYphiv9",
    "outputId": "c70266ad-5338-44b4-8359-690b1d02cd46"
   },
   "outputs": [
    {
     "data": {
      "image/png": "[encoded data removed]",
      "text/plain": [
       "<Figure size 432x288 with 1 Axes>"
      ]
     },
     "metadata": {
      "needs_background": "light"
     },
     "output_type": "display_data"
    }
   ],
   "source": [
    "# stroke: volume of the engine (the distance traveled by the \n",
    "# piston in each cycle)\n",
    "sns.distplot(cars['stroke'])\n",
    "plt.show()"
   ]
  },
  {
   "cell_type": "code",
   "execution_count": 11,
   "metadata": {
    "id": "vpGRIdN3hiv9",
    "outputId": "e022ae74-888d-49ea-ab02-7f825a60050b"
   },
   "outputs": [
    {
     "data": {
      "image/png": "[encoded data removed]",
      "text/plain": [
       "<Figure size 432x288 with 1 Axes>"
      ]
     },
     "metadata": {
      "needs_background": "light"
     },
     "output_type": "display_data"
    }
   ],
   "source": [
    "# compression ration: ratio of volume of compression chamber \n",
    "# at largest capacity to least capacity\n",
    "sns.distplot(cars['compressionratio'])\n",
    "plt.show()"
   ]
  },
  {
   "cell_type": "code",
   "execution_count": 12,
   "metadata": {
    "id": "KQTy_Hgchiv-",
    "outputId": "848006e2-acdb-4bb3-ba12-237e47833eb2"
   },
   "outputs": [
    {
     "data": {
      "image/png": "[encoded data removed]",
      "text/plain": [
       "<Figure size 432x288 with 1 Axes>"
      ]
     },
     "metadata": {
      "needs_background": "light"
     },
     "output_type": "display_data"
    }
   ],
   "source": [
    "# target variable: price of car\n",
    "sns.distplot(cars['price'])\n",
    "plt.show()"
   ]
  },
  {
   "cell_type": "markdown",
   "metadata": {
    "id": "OdGs7Kq7hiv-"
   },
   "source": [
    "#### Data Exploration\n",
    "\n",
    "To perform linear regression, the (numeric) target variable should be linearly related to *at least one another numeric variable*. Let's see whether that's true in this case.\n",
    "\n",
    "\n",
    "We'll first subset the list of all (independent) numeric variables, and then make a **pairwise plot**."
   ]
  },
  {
   "cell_type": "code",
   "execution_count": 13,
   "metadata": {
    "id": "Y3Kbexxvhiv-",
    "outputId": "e701b8ff-460c-4c04-8393-3698c70ca58c"
   },
   "outputs": [
    {
     "data": {
      "text/html": [
       "<div>\n",
       "<style scoped>\n",
       "    .dataframe tbody tr th:only-of-type {\n",
       "        vertical-align: middle;\n",
       "    }\n",
       "\n",
       "    .dataframe tbody tr th {\n",
       "        vertical-align: top;\n",
       "    }\n",
       "\n",
       "    .dataframe thead th {\n",
       "        text-align: right;\n",
       "    }\n",
       "</style>\n",
       "<table border=\"1\" class=\"dataframe\">\n",
       "  <thead>\n",
       "    <tr style=\"text-align: right;\">\n",
       "      <th></th>\n",
       "      <th>car_ID</th>\n",
       "      <th>symboling</th>\n",
       "      <th>wheelbase</th>\n",
       "      <th>carlength</th>\n",
       "      <th>carwidth</th>\n",
       "      <th>carheight</th>\n",
       "      <th>curbweight</th>\n",
       "      <th>enginesize</th>\n",
       "      <th>boreratio</th>\n",
       "      <th>stroke</th>\n",
       "      <th>compressionratio</th>\n",
       "      <th>horsepower</th>\n",
       "      <th>peakrpm</th>\n",
       "      <th>citympg</th>\n",
       "      <th>highwaympg</th>\n",
       "      <th>price</th>\n",
       "    </tr>\n",
       "  </thead>\n",
       "  <tbody>\n",
       "    <tr>\n",
       "      <td>0</td>\n",
       "      <td>1</td>\n",
       "      <td>3</td>\n",
       "      <td>88.6</td>\n",
       "      <td>168.8</td>\n",
       "      <td>64.1</td>\n",
       "      <td>48.8</td>\n",
       "      <td>2548</td>\n",
       "      <td>130</td>\n",
       "      <td>3.47</td>\n",
       "      <td>2.68</td>\n",
       "      <td>9.0</td>\n",
       "      <td>111</td>\n",
       "      <td>5000</td>\n",
       "      <td>21</td>\n",
       "      <td>27</td>\n",
       "      <td>13495.0</td>\n",
       "    </tr>\n",
       "    <tr>\n",
       "      <td>1</td>\n",
       "      <td>2</td>\n",
       "      <td>3</td>\n",
       "      <td>88.6</td>\n",
       "      <td>168.8</td>\n",
       "      <td>64.1</td>\n",
       "      <td>48.8</td>\n",
       "      <td>2548</td>\n",
       "      <td>130</td>\n",
       "      <td>3.47</td>\n",
       "      <td>2.68</td>\n",
       "      <td>9.0</td>\n",
       "      <td>111</td>\n",
       "      <td>5000</td>\n",
       "      <td>21</td>\n",
       "      <td>27</td>\n",
       "      <td>16500.0</td>\n",
       "    </tr>\n",
       "    <tr>\n",
       "      <td>2</td>\n",
       "      <td>3</td>\n",
       "      <td>1</td>\n",
       "      <td>94.5</td>\n",
       "      <td>171.2</td>\n",
       "      <td>65.5</td>\n",
       "      <td>52.4</td>\n",
       "      <td>2823</td>\n",
       "      <td>152</td>\n",
       "      <td>2.68</td>\n",
       "      <td>3.47</td>\n",
       "      <td>9.0</td>\n",
       "      <td>154</td>\n",
       "      <td>5000</td>\n",
       "      <td>19</td>\n",
       "      <td>26</td>\n",
       "      <td>16500.0</td>\n",
       "    </tr>\n",
       "    <tr>\n",
       "      <td>3</td>\n",
       "      <td>4</td>\n",
       "      <td>2</td>\n",
       "      <td>99.8</td>\n",
       "      <td>176.6</td>\n",
       "      <td>66.2</td>\n",
       "      <td>54.3</td>\n",
       "      <td>2337</td>\n",
       "      <td>109</td>\n",
       "      <td>3.19</td>\n",
       "      <td>3.40</td>\n",
       "      <td>10.0</td>\n",
       "      <td>102</td>\n",
       "      <td>5500</td>\n",
       "      <td>24</td>\n",
       "      <td>30</td>\n",
       "      <td>13950.0</td>\n",
       "    </tr>\n",
       "    <tr>\n",
       "      <td>4</td>\n",
       "      <td>5</td>\n",
       "      <td>2</td>\n",
       "      <td>99.4</td>\n",
       "      <td>176.6</td>\n",
       "      <td>66.4</td>\n",
       "      <td>54.3</td>\n",
       "      <td>2824</td>\n",
       "      <td>136</td>\n",
       "      <td>3.19</td>\n",
       "      <td>3.40</td>\n",
       "      <td>8.0</td>\n",
       "      <td>115</td>\n",
       "      <td>5500</td>\n",
       "      <td>18</td>\n",
       "      <td>22</td>\n",
       "      <td>17450.0</td>\n",
       "    </tr>\n",
       "  </tbody>\n",
       "</table>\n",
       "</div>"
      ],
      "text/plain": [
       "   car_ID  symboling  wheelbase  carlength  carwidth  carheight  curbweight  \\\n",
       "0       1          3       88.6      168.8      64.1       48.8        2548   \n",
       "1       2          3       88.6      168.8      64.1       48.8        2548   \n",
       "2       3          1       94.5      171.2      65.5       52.4        2823   \n",
       "3       4          2       99.8      176.6      66.2       54.3        2337   \n",
       "4       5          2       99.4      176.6      66.4       54.3        2824   \n",
       "\n",
       "   enginesize  boreratio  stroke  compressionratio  horsepower  peakrpm  \\\n",
       "0         130       3.47    2.68               9.0         111     5000   \n",
       "1         130       3.47    2.68               9.0         111     5000   \n",
       "2         152       2.68    3.47               9.0         154     5000   \n",
       "3         109       3.19    3.40              10.0         102     5500   \n",
       "4         136       3.19    3.40               8.0         115     5500   \n",
       "\n",
       "   citympg  highwaympg    price  \n",
       "0       21          27  13495.0  \n",
       "1       21          27  16500.0  \n",
       "2       19          26  16500.0  \n",
       "3       24          30  13950.0  \n",
       "4       18          22  17450.0  "
      ]
     },
     "execution_count": 13,
     "metadata": {},
     "output_type": "execute_result"
    }
   ],
   "source": [
    "# all numeric (float and int) variables in the dataset\n",
    "cars_numeric = cars.select_dtypes(include=['float64', 'int64'])\n",
    "cars_numeric.head()"
   ]
  },
  {
   "cell_type": "markdown",
   "metadata": {
    "id": "zMDAZZ7nhiv_"
   },
   "source": [
    "Here, although the variable ```symboling``` is numeric (int), we'd rather treat it as categorical since it has only 6 discrete values. Also, we do not want 'car_ID'."
   ]
  },
  {
   "cell_type": "code",
   "execution_count": 14,
   "metadata": {
    "id": "qQ7axFXAhiv_",
    "outputId": "3ad4740d-def9-4447-bfd1-8014da1d4d61"
   },
   "outputs": [
    {
     "data": {
      "text/html": [
       "<div>\n",
       "<style scoped>\n",
       "    .dataframe tbody tr th:only-of-type {\n",
       "        vertical-align: middle;\n",
       "    }\n",
       "\n",
       "    .dataframe tbody tr th {\n",
       "        vertical-align: top;\n",
       "    }\n",
       "\n",
       "    .dataframe thead th {\n",
       "        text-align: right;\n",
       "    }\n",
       "</style>\n",
       "<table border=\"1\" class=\"dataframe\">\n",
       "  <thead>\n",
       "    <tr style=\"text-align: right;\">\n",
       "      <th></th>\n",
       "      <th>wheelbase</th>\n",
       "      <th>carlength</th>\n",
       "      <th>carwidth</th>\n",
       "      <th>carheight</th>\n",
       "      <th>curbweight</th>\n",
       "      <th>enginesize</th>\n",
       "      <th>boreratio</th>\n",
       "      <th>stroke</th>\n",
       "      <th>compressionratio</th>\n",
       "      <th>horsepower</th>\n",
       "      <th>peakrpm</th>\n",
       "      <th>citympg</th>\n",
       "      <th>highwaympg</th>\n",
       "      <th>price</th>\n",
       "    </tr>\n",
       "  </thead>\n",
       "  <tbody>\n",
       "    <tr>\n",
       "      <td>0</td>\n",
       "      <td>88.6</td>\n",
       "      <td>168.8</td>\n",
       "      <td>64.1</td>\n",
       "      <td>48.8</td>\n",
       "      <td>2548</td>\n",
       "      <td>130</td>\n",
       "      <td>3.47</td>\n",
       "      <td>2.68</td>\n",
       "      <td>9.0</td>\n",
       "      <td>111</td>\n",
       "      <td>5000</td>\n",
       "      <td>21</td>\n",
       "      <td>27</td>\n",
       "      <td>13495.0</td>\n",
       "    </tr>\n",
       "    <tr>\n",
       "      <td>1</td>\n",
       "      <td>88.6</td>\n",
       "      <td>168.8</td>\n",
       "      <td>64.1</td>\n",
       "      <td>48.8</td>\n",
       "      <td>2548</td>\n",
       "      <td>130</td>\n",
       "      <td>3.47</td>\n",
       "      <td>2.68</td>\n",
       "      <td>9.0</td>\n",
       "      <td>111</td>\n",
       "      <td>5000</td>\n",
       "      <td>21</td>\n",
       "      <td>27</td>\n",
       "      <td>16500.0</td>\n",
       "    </tr>\n",
       "    <tr>\n",
       "      <td>2</td>\n",
       "      <td>94.5</td>\n",
       "      <td>171.2</td>\n",
       "      <td>65.5</td>\n",
       "      <td>52.4</td>\n",
       "      <td>2823</td>\n",
       "      <td>152</td>\n",
       "      <td>2.68</td>\n",
       "      <td>3.47</td>\n",
       "      <td>9.0</td>\n",
       "      <td>154</td>\n",
       "      <td>5000</td>\n",
       "      <td>19</td>\n",
       "      <td>26</td>\n",
       "      <td>16500.0</td>\n",
       "    </tr>\n",
       "    <tr>\n",
       "      <td>3</td>\n",
       "      <td>99.8</td>\n",
       "      <td>176.6</td>\n",
       "      <td>66.2</td>\n",
       "      <td>54.3</td>\n",
       "      <td>2337</td>\n",
       "      <td>109</td>\n",
       "      <td>3.19</td>\n",
       "      <td>3.40</td>\n",
       "      <td>10.0</td>\n",
       "      <td>102</td>\n",
       "      <td>5500</td>\n",
       "      <td>24</td>\n",
       "      <td>30</td>\n",
       "      <td>13950.0</td>\n",
       "    </tr>\n",
       "    <tr>\n",
       "      <td>4</td>\n",
       "      <td>99.4</td>\n",
       "      <td>176.6</td>\n",
       "      <td>66.4</td>\n",
       "      <td>54.3</td>\n",
       "      <td>2824</td>\n",
       "      <td>136</td>\n",
       "      <td>3.19</td>\n",
       "      <td>3.40</td>\n",
       "      <td>8.0</td>\n",
       "      <td>115</td>\n",
       "      <td>5500</td>\n",
       "      <td>18</td>\n",
       "      <td>22</td>\n",
       "      <td>17450.0</td>\n",
       "    </tr>\n",
       "  </tbody>\n",
       "</table>\n",
       "</div>"
      ],
      "text/plain": [
       "   wheelbase  carlength  carwidth  carheight  curbweight  enginesize  \\\n",
       "0       88.6      168.8      64.1       48.8        2548         130   \n",
       "1       88.6      168.8      64.1       48.8        2548         130   \n",
       "2       94.5      171.2      65.5       52.4        2823         152   \n",
       "3       99.8      176.6      66.2       54.3        2337         109   \n",
       "4       99.4      176.6      66.4       54.3        2824         136   \n",
       "\n",
       "   boreratio  stroke  compressionratio  horsepower  peakrpm  citympg  \\\n",
       "0       3.47    2.68               9.0         111     5000       21   \n",
       "1       3.47    2.68               9.0         111     5000       21   \n",
       "2       2.68    3.47               9.0         154     5000       19   \n",
       "3       3.19    3.40              10.0         102     5500       24   \n",
       "4       3.19    3.40               8.0         115     5500       18   \n",
       "\n",
       "   highwaympg    price  \n",
       "0          27  13495.0  \n",
       "1          27  16500.0  \n",
       "2          26  16500.0  \n",
       "3          30  13950.0  \n",
       "4          22  17450.0  "
      ]
     },
     "execution_count": 14,
     "metadata": {},
     "output_type": "execute_result"
    }
   ],
   "source": [
    "# dropping symboling and car_ID \n",
    "cars_numeric = cars_numeric.drop(['symboling','car_ID'], axis=1)\n",
    "cars_numeric.head()"
   ]
  },
  {
   "cell_type": "markdown",
   "metadata": {
    "id": "aZjqvt98hiv_"
   },
   "source": [
    "This is quite hard to read, and we can rather plot correlations between variables. Also, a heatmap is pretty useful to visualise multiple correlations in one plot."
   ]
  },
  {
   "cell_type": "code",
   "execution_count": 15,
   "metadata": {
    "id": "QHQlS4K5hiwA",
    "outputId": "b67d4b8d-2b2d-4c56-ca70-30f02d750519"
   },
   "outputs": [
    {
     "data": {
      "text/html": [
       "<div>\n",
       "<style scoped>\n",
       "    .dataframe tbody tr th:only-of-type {\n",
       "        vertical-align: middle;\n",
       "    }\n",
       "\n",
       "    .dataframe tbody tr th {\n",
       "        vertical-align: top;\n",
       "    }\n",
       "\n",
       "    .dataframe thead th {\n",
       "        text-align: right;\n",
       "    }\n",
       "</style>\n",
       "<table border=\"1\" class=\"dataframe\">\n",
       "  <thead>\n",
       "    <tr style=\"text-align: right;\">\n",
       "      <th></th>\n",
       "      <th>wheelbase</th>\n",
       "      <th>carlength</th>\n",
       "      <th>carwidth</th>\n",
       "      <th>carheight</th>\n",
       "      <th>curbweight</th>\n",
       "      <th>enginesize</th>\n",
       "      <th>boreratio</th>\n",
       "      <th>stroke</th>\n",
       "      <th>compressionratio</th>\n",
       "      <th>horsepower</th>\n",
       "      <th>peakrpm</th>\n",
       "      <th>citympg</th>\n",
       "      <th>highwaympg</th>\n",
       "      <th>price</th>\n",
       "    </tr>\n",
       "  </thead>\n",
       "  <tbody>\n",
       "    <tr>\n",
       "      <td>wheelbase</td>\n",
       "      <td>1.000000</td>\n",
       "      <td>0.874587</td>\n",
       "      <td>0.795144</td>\n",
       "      <td>0.589435</td>\n",
       "      <td>0.776386</td>\n",
       "      <td>0.569329</td>\n",
       "      <td>0.488750</td>\n",
       "      <td>0.160959</td>\n",
       "      <td>0.249786</td>\n",
       "      <td>0.353294</td>\n",
       "      <td>-0.360469</td>\n",
       "      <td>-0.470414</td>\n",
       "      <td>-0.544082</td>\n",
       "      <td>0.577816</td>\n",
       "    </tr>\n",
       "    <tr>\n",
       "      <td>carlength</td>\n",
       "      <td>0.874587</td>\n",
       "      <td>1.000000</td>\n",
       "      <td>0.841118</td>\n",
       "      <td>0.491029</td>\n",
       "      <td>0.877728</td>\n",
       "      <td>0.683360</td>\n",
       "      <td>0.606454</td>\n",
       "      <td>0.129533</td>\n",
       "      <td>0.158414</td>\n",
       "      <td>0.552623</td>\n",
       "      <td>-0.287242</td>\n",
       "      <td>-0.670909</td>\n",
       "      <td>-0.704662</td>\n",
       "      <td>0.682920</td>\n",
       "    </tr>\n",
       "    <tr>\n",
       "      <td>carwidth</td>\n",
       "      <td>0.795144</td>\n",
       "      <td>0.841118</td>\n",
       "      <td>1.000000</td>\n",
       "      <td>0.279210</td>\n",
       "      <td>0.867032</td>\n",
       "      <td>0.735433</td>\n",
       "      <td>0.559150</td>\n",
       "      <td>0.182942</td>\n",
       "      <td>0.181129</td>\n",
       "      <td>0.640732</td>\n",
       "      <td>-0.220012</td>\n",
       "      <td>-0.642704</td>\n",
       "      <td>-0.677218</td>\n",
       "      <td>0.759325</td>\n",
       "    </tr>\n",
       "    <tr>\n",
       "      <td>carheight</td>\n",
       "      <td>0.589435</td>\n",
       "      <td>0.491029</td>\n",
       "      <td>0.279210</td>\n",
       "      <td>1.000000</td>\n",
       "      <td>0.295572</td>\n",
       "      <td>0.067149</td>\n",
       "      <td>0.171071</td>\n",
       "      <td>-0.055307</td>\n",
       "      <td>0.261214</td>\n",
       "      <td>-0.108802</td>\n",
       "      <td>-0.320411</td>\n",
       "      <td>-0.048640</td>\n",
       "      <td>-0.107358</td>\n",
       "      <td>0.119336</td>\n",
       "    </tr>\n",
       "    <tr>\n",
       "      <td>curbweight</td>\n",
       "      <td>0.776386</td>\n",
       "      <td>0.877728</td>\n",
       "      <td>0.867032</td>\n",
       "      <td>0.295572</td>\n",
       "      <td>1.000000</td>\n",
       "      <td>0.850594</td>\n",
       "      <td>0.648480</td>\n",
       "      <td>0.168790</td>\n",
       "      <td>0.151362</td>\n",
       "      <td>0.750739</td>\n",
       "      <td>-0.266243</td>\n",
       "      <td>-0.757414</td>\n",
       "      <td>-0.797465</td>\n",
       "      <td>0.835305</td>\n",
       "    </tr>\n",
       "    <tr>\n",
       "      <td>enginesize</td>\n",
       "      <td>0.569329</td>\n",
       "      <td>0.683360</td>\n",
       "      <td>0.735433</td>\n",
       "      <td>0.067149</td>\n",
       "      <td>0.850594</td>\n",
       "      <td>1.000000</td>\n",
       "      <td>0.583774</td>\n",
       "      <td>0.203129</td>\n",
       "      <td>0.028971</td>\n",
       "      <td>0.809769</td>\n",
       "      <td>-0.244660</td>\n",
       "      <td>-0.653658</td>\n",
       "      <td>-0.677470</td>\n",
       "      <td>0.874145</td>\n",
       "    </tr>\n",
       "    <tr>\n",
       "      <td>boreratio</td>\n",
       "      <td>0.488750</td>\n",
       "      <td>0.606454</td>\n",
       "      <td>0.559150</td>\n",
       "      <td>0.171071</td>\n",
       "      <td>0.648480</td>\n",
       "      <td>0.583774</td>\n",
       "      <td>1.000000</td>\n",
       "      <td>-0.055909</td>\n",
       "      <td>0.005197</td>\n",
       "      <td>0.573677</td>\n",
       "      <td>-0.254976</td>\n",
       "      <td>-0.584532</td>\n",
       "      <td>-0.587012</td>\n",
       "      <td>0.553173</td>\n",
       "    </tr>\n",
       "    <tr>\n",
       "      <td>stroke</td>\n",
       "      <td>0.160959</td>\n",
       "      <td>0.129533</td>\n",
       "      <td>0.182942</td>\n",
       "      <td>-0.055307</td>\n",
       "      <td>0.168790</td>\n",
       "      <td>0.203129</td>\n",
       "      <td>-0.055909</td>\n",
       "      <td>1.000000</td>\n",
       "      <td>0.186110</td>\n",
       "      <td>0.080940</td>\n",
       "      <td>-0.067964</td>\n",
       "      <td>-0.042145</td>\n",
       "      <td>-0.043931</td>\n",
       "      <td>0.079443</td>\n",
       "    </tr>\n",
       "    <tr>\n",
       "      <td>compressionratio</td>\n",
       "      <td>0.249786</td>\n",
       "      <td>0.158414</td>\n",
       "      <td>0.181129</td>\n",
       "      <td>0.261214</td>\n",
       "      <td>0.151362</td>\n",
       "      <td>0.028971</td>\n",
       "      <td>0.005197</td>\n",
       "      <td>0.186110</td>\n",
       "      <td>1.000000</td>\n",
       "      <td>-0.204326</td>\n",
       "      <td>-0.435741</td>\n",
       "      <td>0.324701</td>\n",
       "      <td>0.265201</td>\n",
       "      <td>0.067984</td>\n",
       "    </tr>\n",
       "    <tr>\n",
       "      <td>horsepower</td>\n",
       "      <td>0.353294</td>\n",
       "      <td>0.552623</td>\n",
       "      <td>0.640732</td>\n",
       "      <td>-0.108802</td>\n",
       "      <td>0.750739</td>\n",
       "      <td>0.809769</td>\n",
       "      <td>0.573677</td>\n",
       "      <td>0.080940</td>\n",
       "      <td>-0.204326</td>\n",
       "      <td>1.000000</td>\n",
       "      <td>0.131073</td>\n",
       "      <td>-0.801456</td>\n",
       "      <td>-0.770544</td>\n",
       "      <td>0.808139</td>\n",
       "    </tr>\n",
       "    <tr>\n",
       "      <td>peakrpm</td>\n",
       "      <td>-0.360469</td>\n",
       "      <td>-0.287242</td>\n",
       "      <td>-0.220012</td>\n",
       "      <td>-0.320411</td>\n",
       "      <td>-0.266243</td>\n",
       "      <td>-0.244660</td>\n",
       "      <td>-0.254976</td>\n",
       "      <td>-0.067964</td>\n",
       "      <td>-0.435741</td>\n",
       "      <td>0.131073</td>\n",
       "      <td>1.000000</td>\n",
       "      <td>-0.113544</td>\n",
       "      <td>-0.054275</td>\n",
       "      <td>-0.085267</td>\n",
       "    </tr>\n",
       "    <tr>\n",
       "      <td>citympg</td>\n",
       "      <td>-0.470414</td>\n",
       "      <td>-0.670909</td>\n",
       "      <td>-0.642704</td>\n",
       "      <td>-0.048640</td>\n",
       "      <td>-0.757414</td>\n",
       "      <td>-0.653658</td>\n",
       "      <td>-0.584532</td>\n",
       "      <td>-0.042145</td>\n",
       "      <td>0.324701</td>\n",
       "      <td>-0.801456</td>\n",
       "      <td>-0.113544</td>\n",
       "      <td>1.000000</td>\n",
       "      <td>0.971337</td>\n",
       "      <td>-0.685751</td>\n",
       "    </tr>\n",
       "    <tr>\n",
       "      <td>highwaympg</td>\n",
       "      <td>-0.544082</td>\n",
       "      <td>-0.704662</td>\n",
       "      <td>-0.677218</td>\n",
       "      <td>-0.107358</td>\n",
       "      <td>-0.797465</td>\n",
       "      <td>-0.677470</td>\n",
       "      <td>-0.587012</td>\n",
       "      <td>-0.043931</td>\n",
       "      <td>0.265201</td>\n",
       "      <td>-0.770544</td>\n",
       "      <td>-0.054275</td>\n",
       "      <td>0.971337</td>\n",
       "      <td>1.000000</td>\n",
       "      <td>-0.697599</td>\n",
       "    </tr>\n",
       "    <tr>\n",
       "      <td>price</td>\n",
       "      <td>0.577816</td>\n",
       "      <td>0.682920</td>\n",
       "      <td>0.759325</td>\n",
       "      <td>0.119336</td>\n",
       "      <td>0.835305</td>\n",
       "      <td>0.874145</td>\n",
       "      <td>0.553173</td>\n",
       "      <td>0.079443</td>\n",
       "      <td>0.067984</td>\n",
       "      <td>0.808139</td>\n",
       "      <td>-0.085267</td>\n",
       "      <td>-0.685751</td>\n",
       "      <td>-0.697599</td>\n",
       "      <td>1.000000</td>\n",
       "    </tr>\n",
       "  </tbody>\n",
       "</table>\n",
       "</div>"
      ],
      "text/plain": [
       "                  wheelbase  carlength  carwidth  carheight  curbweight  \\\n",
       "wheelbase          1.000000   0.874587  0.795144   0.589435    0.776386   \n",
       "carlength          0.874587   1.000000  0.841118   0.491029    0.877728   \n",
       "carwidth           0.795144   0.841118  1.000000   0.279210    0.867032   \n",
       "carheight          0.589435   0.491029  0.279210   1.000000    0.295572   \n",
       "curbweight         0.776386   0.877728  0.867032   0.295572    1.000000   \n",
       "enginesize         0.569329   0.683360  0.735433   0.067149    0.850594   \n",
       "boreratio          0.488750   0.606454  0.559150   0.171071    0.648480   \n",
       "stroke             0.160959   0.129533  0.182942  -0.055307    0.168790   \n",
       "compressionratio   0.249786   0.158414  0.181129   0.261214    0.151362   \n",
       "horsepower         0.353294   0.552623  0.640732  -0.108802    0.750739   \n",
       "peakrpm           -0.360469  -0.287242 -0.220012  -0.320411   -0.266243   \n",
       "citympg           -0.470414  -0.670909 -0.642704  -0.048640   -0.757414   \n",
       "highwaympg        -0.544082  -0.704662 -0.677218  -0.107358   -0.797465   \n",
       "price              0.577816   0.682920  0.759325   0.119336    0.835305   \n",
       "\n",
       "                  enginesize  boreratio    stroke  compressionratio  \\\n",
       "wheelbase           0.569329   0.488750  0.160959          0.249786   \n",
       "carlength           0.683360   0.606454  0.129533          0.158414   \n",
       "carwidth            0.735433   0.559150  0.182942          0.181129   \n",
       "carheight           0.067149   0.171071 -0.055307          0.261214   \n",
       "curbweight          0.850594   0.648480  0.168790          0.151362   \n",
       "enginesize          1.000000   0.583774  0.203129          0.028971   \n",
       "boreratio           0.583774   1.000000 -0.055909          0.005197   \n",
       "stroke              0.203129  -0.055909  1.000000          0.186110   \n",
       "compressionratio    0.028971   0.005197  0.186110          1.000000   \n",
       "horsepower          0.809769   0.573677  0.080940         -0.204326   \n",
       "peakrpm            -0.244660  -0.254976 -0.067964         -0.435741   \n",
       "citympg            -0.653658  -0.584532 -0.042145          0.324701   \n",
       "highwaympg         -0.677470  -0.587012 -0.043931          0.265201   \n",
       "price               0.874145   0.553173  0.079443          0.067984   \n",
       "\n",
       "                  horsepower   peakrpm   citympg  highwaympg     price  \n",
       "wheelbase           0.353294 -0.360469 -0.470414   -0.544082  0.577816  \n",
       "carlength           0.552623 -0.287242 -0.670909   -0.704662  0.682920  \n",
       "carwidth            0.640732 -0.220012 -0.642704   -0.677218  0.759325  \n",
       "carheight          -0.108802 -0.320411 -0.048640   -0.107358  0.119336  \n",
       "curbweight          0.750739 -0.266243 -0.757414   -0.797465  0.835305  \n",
       "enginesize          0.809769 -0.244660 -0.653658   -0.677470  0.874145  \n",
       "boreratio           0.573677 -0.254976 -0.584532   -0.587012  0.553173  \n",
       "stroke              0.080940 -0.067964 -0.042145   -0.043931  0.079443  \n",
       "compressionratio   -0.204326 -0.435741  0.324701    0.265201  0.067984  \n",
       "horsepower          1.000000  0.131073 -0.801456   -0.770544  0.808139  \n",
       "peakrpm             0.131073  1.000000 -0.113544   -0.054275 -0.085267  \n",
       "citympg            -0.801456 -0.113544  1.000000    0.971337 -0.685751  \n",
       "highwaympg         -0.770544 -0.054275  0.971337    1.000000 -0.697599  \n",
       "price               0.808139 -0.085267 -0.685751   -0.697599  1.000000  "
      ]
     },
     "execution_count": 15,
     "metadata": {},
     "output_type": "execute_result"
    }
   ],
   "source": [
    "# correlation matrix\n",
    "cor = cars_numeric.corr()\n",
    "cor"
   ]
  },
  {
   "cell_type": "code",
   "execution_count": 16,
   "metadata": {
    "id": "vXX9jxwghiwA",
    "outputId": "43a747b7-0c3a-4aa7-a1fc-0c45de73c199"
   },
   "outputs": [
    {
     "data": {
      "image/png": "[encoded data removed]",
      "text/plain": [
       "<Figure size 1152x576 with 2 Axes>"
      ]
     },
     "metadata": {
      "needs_background": "light"
     },
     "output_type": "display_data"
    }
   ],
   "source": [
    "# plotting correlations on a heatmap\n",
    "\n",
    "# figure size\n",
    "plt.figure(figsize=(16,8))\n",
    "\n",
    "# heatmap\n",
    "sns.heatmap(cor, cmap=\"YlGnBu\", annot=True)\n",
    "plt.show()\n"
   ]
  },
  {
   "cell_type": "markdown",
   "metadata": {
    "id": "hANC0odbhiwB"
   },
   "source": [
    "The heatmap shows some useful insights:\n",
    "\n",
    "Correlation of price with independent variables:\n",
    "- Price is highly (positively) correlated with wheelbase, carlength, carwidth, curbweight, enginesize, horsepower (notice how all of these variables represent the size/weight/engine power of the car)\n",
    "\n",
    "- Price is negatively correlated to ```citympg``` and ```highwaympg``` (-0.70 approximately). This suggest that cars having high mileage may fall in the 'economy' cars category, and are priced lower (think Maruti Alto/Swift type of cars, which are designed to be affordable by the middle class, who value mileage more than horsepower/size of car etc.)\n",
    "\n",
    "Correlation among independent variables:\n",
    "- Many independent variables are highly correlated (look at the top-left part of matrix): wheelbase, carlength, curbweight, enginesize etc. are all measures of 'size/weight', and are positively correlated \n",
    "\n",
    "\n",
    "Thus, while building the model, we'll have to pay attention to multicollinearity (especially linear models, such as linear and logistic regression, suffer more from multicollinearity)."
   ]
  },
  {
   "cell_type": "markdown",
   "metadata": {
    "id": "M2uRcqLthiwC"
   },
   "source": [
    "## 2. Data Cleaning\n",
    "\n",
    "Let's now conduct some data cleaning steps. \n",
    "\n",
    "We've seen that there are no missing values in the dataset. We've also seen that variables are in the correct format, except ```symboling```, which should rather be a categorical variable (so that dummy variable are created for the categories).\n",
    "\n",
    "Note that it *can* be used in the model as a numeric variable also. \n",
    "\n"
   ]
  },
  {
   "cell_type": "code",
   "execution_count": 17,
   "metadata": {
    "id": "DreiJ-bfhiwC",
    "outputId": "ca5637f3-1610-440d-b14e-a3e5c69724d0"
   },
   "outputs": [
    {
     "name": "stdout",
     "output_type": "stream",
     "text": [
      "<class 'pandas.core.frame.DataFrame'>\n",
      "RangeIndex: 205 entries, 0 to 204\n",
      "Data columns (total 26 columns):\n",
      "car_ID              205 non-null int64\n",
      "symboling           205 non-null int64\n",
      "CarName             205 non-null object\n",
      "fueltype            205 non-null object\n",
      "aspiration          205 non-null object\n",
      "doornumber          205 non-null object\n",
      "carbody             205 non-null object\n",
      "drivewheel          205 non-null object\n",
      "enginelocation      205 non-null object\n",
      "wheelbase           205 non-null float64\n",
      "carlength           205 non-null float64\n",
      "carwidth            205 non-null float64\n",
      "carheight           205 non-null float64\n",
      "curbweight          205 non-null int64\n",
      "enginetype          205 non-null object\n",
      "cylindernumber      205 non-null object\n",
      "enginesize          205 non-null int64\n",
      "fuelsystem          205 non-null object\n",
      "boreratio           205 non-null float64\n",
      "stroke              205 non-null float64\n",
      "compressionratio    205 non-null float64\n",
      "horsepower          205 non-null int64\n",
      "peakrpm             205 non-null int64\n",
      "citympg             205 non-null int64\n",
      "highwaympg          205 non-null int64\n",
      "price               205 non-null float64\n",
      "dtypes: float64(8), int64(8), object(10)\n",
      "memory usage: 41.8+ KB\n"
     ]
    }
   ],
   "source": [
    "# variable formats\n",
    "cars.info()"
   ]
  },
  {
   "cell_type": "code",
   "execution_count": 18,
   "metadata": {
    "id": "ybMz_oJihiwD",
    "outputId": "c23b6af2-0927-4133-b08d-430f71f4d3eb"
   },
   "outputs": [
    {
     "name": "stdout",
     "output_type": "stream",
     "text": [
      "<class 'pandas.core.frame.DataFrame'>\n",
      "RangeIndex: 205 entries, 0 to 204\n",
      "Data columns (total 26 columns):\n",
      "car_ID              205 non-null int64\n",
      "symboling           205 non-null object\n",
      "CarName             205 non-null object\n",
      "fueltype            205 non-null object\n",
      "aspiration          205 non-null object\n",
      "doornumber          205 non-null object\n",
      "carbody             205 non-null object\n",
      "drivewheel          205 non-null object\n",
      "enginelocation      205 non-null object\n",
      "wheelbase           205 non-null float64\n",
      "carlength           205 non-null float64\n",
      "carwidth            205 non-null float64\n",
      "carheight           205 non-null float64\n",
      "curbweight          205 non-null int64\n",
      "enginetype          205 non-null object\n",
      "cylindernumber      205 non-null object\n",
      "enginesize          205 non-null int64\n",
      "fuelsystem          205 non-null object\n",
      "boreratio           205 non-null float64\n",
      "stroke              205 non-null float64\n",
      "compressionratio    205 non-null float64\n",
      "horsepower          205 non-null int64\n",
      "peakrpm             205 non-null int64\n",
      "citympg             205 non-null int64\n",
      "highwaympg          205 non-null int64\n",
      "price               205 non-null float64\n",
      "dtypes: float64(8), int64(7), object(11)\n",
      "memory usage: 41.8+ KB\n"
     ]
    }
   ],
   "source": [
    "# converting symboling to categorical\n",
    "cars['symboling'] = cars['symboling'].astype('object')\n",
    "cars.info()"
   ]
  },
  {
   "cell_type": "markdown",
   "metadata": {
    "id": "ru0zhLpyhiwD"
   },
   "source": [
    "Netx, we need to extract the company name from the column ```CarName```. "
   ]
  },
  {
   "cell_type": "code",
   "execution_count": 19,
   "metadata": {
    "id": "FLGRslerhiwD",
    "outputId": "fcc8f071-cdc6-44f8-8e6a-bbdf5c0bc84b"
   },
   "outputs": [
    {
     "data": {
      "text/plain": [
       "0            alfa-romero giulia\n",
       "1           alfa-romero stelvio\n",
       "2      alfa-romero Quadrifoglio\n",
       "3                   audi 100 ls\n",
       "4                    audi 100ls\n",
       "5                      audi fox\n",
       "6                    audi 100ls\n",
       "7                     audi 5000\n",
       "8                     audi 4000\n",
       "9           audi 5000s (diesel)\n",
       "10                     bmw 320i\n",
       "11                     bmw 320i\n",
       "12                       bmw x1\n",
       "13                       bmw x3\n",
       "14                       bmw z4\n",
       "15                       bmw x4\n",
       "16                       bmw x5\n",
       "17                       bmw x3\n",
       "18             chevrolet impala\n",
       "19        chevrolet monte carlo\n",
       "20          chevrolet vega 2300\n",
       "21                dodge rampage\n",
       "22          dodge challenger se\n",
       "23                   dodge d200\n",
       "24            dodge monaco (sw)\n",
       "25           dodge colt hardtop\n",
       "26              dodge colt (sw)\n",
       "27         dodge coronet custom\n",
       "28            dodge dart custom\n",
       "29    dodge coronet custom (sw)\n",
       "Name: CarName, dtype: object"
      ]
     },
     "execution_count": 19,
     "metadata": {},
     "output_type": "execute_result"
    }
   ],
   "source": [
    "# CarName: first few entries\n",
    "cars['CarName'][:30]"
   ]
  },
  {
   "cell_type": "markdown",
   "metadata": {
    "id": "qduGRSDAhiwE"
   },
   "source": [
    "Notice that the carname is what occurs before a space, e.g. alfa-romero, audi, chevrolet, dodge, bmx etc.\n",
    "\n",
    "Thus, we need to simply extract the string before a space. There are multiple ways to do that.\n",
    "\n",
    "\n"
   ]
  },
  {
   "cell_type": "code",
   "execution_count": 20,
   "metadata": {
    "id": "JsGEs_fKhiwE",
    "outputId": "0c522c58-1020-48e5-a321-9501c9843c20"
   },
   "outputs": [
    {
     "data": {
      "text/plain": [
       "0     alfa-romero\n",
       "1     alfa-romero\n",
       "2     alfa-romero\n",
       "3            audi\n",
       "4            audi\n",
       "5            audi\n",
       "6            audi\n",
       "7            audi\n",
       "8            audi\n",
       "9            audi\n",
       "10            bmw\n",
       "11            bmw\n",
       "12            bmw\n",
       "13            bmw\n",
       "14            bmw\n",
       "15            bmw\n",
       "16            bmw\n",
       "17            bmw\n",
       "18      chevrolet\n",
       "19      chevrolet\n",
       "20      chevrolet\n",
       "21          dodge\n",
       "22          dodge\n",
       "23          dodge\n",
       "24          dodge\n",
       "25          dodge\n",
       "26          dodge\n",
       "27          dodge\n",
       "28          dodge\n",
       "29          dodge\n",
       "Name: CarName, dtype: object"
      ]
     },
     "execution_count": 20,
     "metadata": {},
     "output_type": "execute_result"
    }
   ],
   "source": [
    "# Extracting carname\n",
    "\n",
    "# Method 1: str.split() by space\n",
    "carnames = cars['CarName'].apply(lambda x: x.split(\" \")[0])\n",
    "carnames[:30]"
   ]
  },
  {
   "cell_type": "code",
   "execution_count": 21,
   "metadata": {
    "id": "y64vM6MahiwE",
    "outputId": "87bded8b-63c8-4301-f402-57391137e83f"
   },
   "outputs": [
    {
     "name": "stdout",
     "output_type": "stream",
     "text": [
      "0      alfa-romero\n",
      "1      alfa-romero\n",
      "2      alfa-romero\n",
      "3             audi\n",
      "4             audi\n",
      "          ...     \n",
      "200          volvo\n",
      "201          volvo\n",
      "202          volvo\n",
      "203          volvo\n",
      "204          volvo\n",
      "Name: CarName, Length: 205, dtype: object\n"
     ]
    }
   ],
   "source": [
    "# Method 2: Use regular expressions\n",
    "import re\n",
    "\n",
    "# regex: any alphanumeric sequence before a space, may contain a hyphen\n",
    "p = re.compile(r'\\w+-?\\w+')\n",
    "carnames = cars['CarName'].apply(lambda x: re.findall(p, x)[0])\n",
    "print(carnames)"
   ]
  },
  {
   "cell_type": "markdown",
   "metadata": {
    "id": "7g_fozzNhiwF"
   },
   "source": [
    "Let's create a new column to store the compnay name and check whether it looks okay."
   ]
  },
  {
   "cell_type": "code",
   "execution_count": 22,
   "metadata": {
    "id": "OEuZafH5hiwG"
   },
   "outputs": [],
   "source": [
    "# New column car_company\n",
    "cars['car_company'] = cars['CarName'].apply(lambda x: re.findall(p, x)[0])"
   ]
  },
  {
   "cell_type": "code",
   "execution_count": 23,
   "metadata": {
    "id": "dFjVIOVGhiwG",
    "outputId": "c836f2ef-626d-4e8c-c329-f1ed1aff2326"
   },
   "outputs": [
    {
     "data": {
      "text/plain": [
       "toyota         31\n",
       "nissan         17\n",
       "mazda          15\n",
       "mitsubishi     13\n",
       "honda          13\n",
       "subaru         12\n",
       "volvo          11\n",
       "peugeot        11\n",
       "volkswagen      9\n",
       "dodge           9\n",
       "buick           8\n",
       "bmw             8\n",
       "plymouth        7\n",
       "audi            7\n",
       "saab            6\n",
       "porsche         4\n",
       "isuzu           4\n",
       "chevrolet       3\n",
       "alfa-romero     3\n",
       "jaguar          3\n",
       "vw              2\n",
       "maxda           2\n",
       "renault         2\n",
       "mercury         1\n",
       "porcshce        1\n",
       "toyouta         1\n",
       "vokswagen       1\n",
       "Nissan          1\n",
       "Name: car_company, dtype: int64"
      ]
     },
     "execution_count": 23,
     "metadata": {},
     "output_type": "execute_result"
    }
   ],
   "source": [
    "# look at all values \n",
    "cars['car_company'].astype('category').value_counts()"
   ]
  },
  {
   "cell_type": "markdown",
   "metadata": {
    "id": "peKUXXi0hiwG"
   },
   "source": [
    "Notice that **some car-company names are misspelled** - vw and vokswagen should be volkswagen, porcshce should be porsche, toyouta should be toyota, Nissan should be nissan, maxda should be mazda etc.\n",
    "\n",
    "This is a data quality issue, let's solve it."
   ]
  },
  {
   "cell_type": "code",
   "execution_count": 24,
   "metadata": {
    "id": "MZfNzzgshiwH"
   },
   "outputs": [],
   "source": [
    "# replacing misspelled car_company names\n",
    "\n",
    "# volkswagen\n",
    "cars.loc[(cars['car_company'] == \"vw\") | \n",
    "         (cars['car_company'] == \"vokswagen\")\n",
    "         , 'car_company'] = 'volkswagen'\n",
    "\n",
    "# porsche\n",
    "cars.loc[cars['car_company'] == \"porcshce\", 'car_company'] = 'porsche'\n",
    "\n",
    "# toyota\n",
    "cars.loc[cars['car_company'] == \"toyouta\", 'car_company'] = 'toyota'\n",
    "\n",
    "# nissan\n",
    "cars.loc[cars['car_company'] == \"Nissan\", 'car_company'] = 'nissan'\n",
    "\n",
    "# mazda\n",
    "cars.loc[cars['car_company'] == \"maxda\", 'car_company'] = 'mazda'"
   ]
  },
  {
   "cell_type": "code",
   "execution_count": 25,
   "metadata": {
    "id": "mEVdRY4QhiwH",
    "outputId": "b5b77a66-e839-45b8-86a0-d7744aaa8d28"
   },
   "outputs": [
    {
     "data": {
      "text/plain": [
       "toyota         32\n",
       "nissan         18\n",
       "mazda          17\n",
       "honda          13\n",
       "mitsubishi     13\n",
       "subaru         12\n",
       "volkswagen     12\n",
       "volvo          11\n",
       "peugeot        11\n",
       "dodge           9\n",
       "buick           8\n",
       "bmw             8\n",
       "plymouth        7\n",
       "audi            7\n",
       "saab            6\n",
       "porsche         5\n",
       "isuzu           4\n",
       "alfa-romero     3\n",
       "chevrolet       3\n",
       "jaguar          3\n",
       "renault         2\n",
       "mercury         1\n",
       "Name: car_company, dtype: int64"
      ]
     },
     "execution_count": 25,
     "metadata": {},
     "output_type": "execute_result"
    }
   ],
   "source": [
    "cars['car_company'].astype('category').value_counts()"
   ]
  },
  {
   "cell_type": "markdown",
   "metadata": {
    "id": "4pnclRV3hiwH"
   },
   "source": [
    "The ```car_company``` variable looks okay now. Let's now drop the car name variable."
   ]
  },
  {
   "cell_type": "code",
   "execution_count": 26,
   "metadata": {
    "id": "DCrNrJOqhiwI"
   },
   "outputs": [],
   "source": [
    "# drop carname variable\n",
    "cars = cars.drop('CarName', axis=1)"
   ]
  },
  {
   "cell_type": "code",
   "execution_count": 27,
   "metadata": {
    "id": "xJZa64UKhiwI",
    "outputId": "15ecffd3-36fb-43c3-f352-2786428793bf"
   },
   "outputs": [
    {
     "name": "stdout",
     "output_type": "stream",
     "text": [
      "<class 'pandas.core.frame.DataFrame'>\n",
      "RangeIndex: 205 entries, 0 to 204\n",
      "Data columns (total 26 columns):\n",
      "car_ID              205 non-null int64\n",
      "symboling           205 non-null object\n",
      "fueltype            205 non-null object\n",
      "aspiration          205 non-null object\n",
      "doornumber          205 non-null object\n",
      "carbody             205 non-null object\n",
      "drivewheel          205 non-null object\n",
      "enginelocation      205 non-null object\n",
      "wheelbase           205 non-null float64\n",
      "carlength           205 non-null float64\n",
      "carwidth            205 non-null float64\n",
      "carheight           205 non-null float64\n",
      "curbweight          205 non-null int64\n",
      "enginetype          205 non-null object\n",
      "cylindernumber      205 non-null object\n",
      "enginesize          205 non-null int64\n",
      "fuelsystem          205 non-null object\n",
      "boreratio           205 non-null float64\n",
      "stroke              205 non-null float64\n",
      "compressionratio    205 non-null float64\n",
      "horsepower          205 non-null int64\n",
      "peakrpm             205 non-null int64\n",
      "citympg             205 non-null int64\n",
      "highwaympg          205 non-null int64\n",
      "price               205 non-null float64\n",
      "car_company         205 non-null object\n",
      "dtypes: float64(8), int64(7), object(11)\n",
      "memory usage: 41.8+ KB\n"
     ]
    }
   ],
   "source": [
    "cars.info()"
   ]
  },
  {
   "cell_type": "code",
   "execution_count": 28,
   "metadata": {
    "id": "e2EJKxURhiwI",
    "outputId": "ea1c9b80-67de-4574-9c1e-515d0e1be7fa"
   },
   "outputs": [
    {
     "data": {
      "text/html": [
       "<div>\n",
       "<style scoped>\n",
       "    .dataframe tbody tr th:only-of-type {\n",
       "        vertical-align: middle;\n",
       "    }\n",
       "\n",
       "    .dataframe tbody tr th {\n",
       "        vertical-align: top;\n",
       "    }\n",
       "\n",
       "    .dataframe thead th {\n",
       "        text-align: right;\n",
       "    }\n",
       "</style>\n",
       "<table border=\"1\" class=\"dataframe\">\n",
       "  <thead>\n",
       "    <tr style=\"text-align: right;\">\n",
       "      <th></th>\n",
       "      <th>car_ID</th>\n",
       "      <th>wheelbase</th>\n",
       "      <th>carlength</th>\n",
       "      <th>carwidth</th>\n",
       "      <th>carheight</th>\n",
       "      <th>curbweight</th>\n",
       "      <th>enginesize</th>\n",
       "      <th>boreratio</th>\n",
       "      <th>stroke</th>\n",
       "      <th>compressionratio</th>\n",
       "      <th>horsepower</th>\n",
       "      <th>peakrpm</th>\n",
       "      <th>citympg</th>\n",
       "      <th>highwaympg</th>\n",
       "      <th>price</th>\n",
       "    </tr>\n",
       "  </thead>\n",
       "  <tbody>\n",
       "    <tr>\n",
       "      <td>count</td>\n",
       "      <td>205.000000</td>\n",
       "      <td>205.000000</td>\n",
       "      <td>205.000000</td>\n",
       "      <td>205.000000</td>\n",
       "      <td>205.000000</td>\n",
       "      <td>205.000000</td>\n",
       "      <td>205.000000</td>\n",
       "      <td>205.000000</td>\n",
       "      <td>205.000000</td>\n",
       "      <td>205.000000</td>\n",
       "      <td>205.000000</td>\n",
       "      <td>205.000000</td>\n",
       "      <td>205.000000</td>\n",
       "      <td>205.000000</td>\n",
       "      <td>205.000000</td>\n",
       "    </tr>\n",
       "    <tr>\n",
       "      <td>mean</td>\n",
       "      <td>103.000000</td>\n",
       "      <td>98.756585</td>\n",
       "      <td>174.049268</td>\n",
       "      <td>65.907805</td>\n",
       "      <td>53.724878</td>\n",
       "      <td>2555.565854</td>\n",
       "      <td>126.907317</td>\n",
       "      <td>3.329756</td>\n",
       "      <td>3.255415</td>\n",
       "      <td>10.142537</td>\n",
       "      <td>104.117073</td>\n",
       "      <td>5125.121951</td>\n",
       "      <td>25.219512</td>\n",
       "      <td>30.751220</td>\n",
       "      <td>13276.710571</td>\n",
       "    </tr>\n",
       "    <tr>\n",
       "      <td>std</td>\n",
       "      <td>59.322565</td>\n",
       "      <td>6.021776</td>\n",
       "      <td>12.337289</td>\n",
       "      <td>2.145204</td>\n",
       "      <td>2.443522</td>\n",
       "      <td>520.680204</td>\n",
       "      <td>41.642693</td>\n",
       "      <td>0.270844</td>\n",
       "      <td>0.313597</td>\n",
       "      <td>3.972040</td>\n",
       "      <td>39.544167</td>\n",
       "      <td>476.985643</td>\n",
       "      <td>6.542142</td>\n",
       "      <td>6.886443</td>\n",
       "      <td>7988.852332</td>\n",
       "    </tr>\n",
       "    <tr>\n",
       "      <td>min</td>\n",
       "      <td>1.000000</td>\n",
       "      <td>86.600000</td>\n",
       "      <td>141.100000</td>\n",
       "      <td>60.300000</td>\n",
       "      <td>47.800000</td>\n",
       "      <td>1488.000000</td>\n",
       "      <td>61.000000</td>\n",
       "      <td>2.540000</td>\n",
       "      <td>2.070000</td>\n",
       "      <td>7.000000</td>\n",
       "      <td>48.000000</td>\n",
       "      <td>4150.000000</td>\n",
       "      <td>13.000000</td>\n",
       "      <td>16.000000</td>\n",
       "      <td>5118.000000</td>\n",
       "    </tr>\n",
       "    <tr>\n",
       "      <td>25%</td>\n",
       "      <td>52.000000</td>\n",
       "      <td>94.500000</td>\n",
       "      <td>166.300000</td>\n",
       "      <td>64.100000</td>\n",
       "      <td>52.000000</td>\n",
       "      <td>2145.000000</td>\n",
       "      <td>97.000000</td>\n",
       "      <td>3.150000</td>\n",
       "      <td>3.110000</td>\n",
       "      <td>8.600000</td>\n",
       "      <td>70.000000</td>\n",
       "      <td>4800.000000</td>\n",
       "      <td>19.000000</td>\n",
       "      <td>25.000000</td>\n",
       "      <td>7788.000000</td>\n",
       "    </tr>\n",
       "    <tr>\n",
       "      <td>50%</td>\n",
       "      <td>103.000000</td>\n",
       "      <td>97.000000</td>\n",
       "      <td>173.200000</td>\n",
       "      <td>65.500000</td>\n",
       "      <td>54.100000</td>\n",
       "      <td>2414.000000</td>\n",
       "      <td>120.000000</td>\n",
       "      <td>3.310000</td>\n",
       "      <td>3.290000</td>\n",
       "      <td>9.000000</td>\n",
       "      <td>95.000000</td>\n",
       "      <td>5200.000000</td>\n",
       "      <td>24.000000</td>\n",
       "      <td>30.000000</td>\n",
       "      <td>10295.000000</td>\n",
       "    </tr>\n",
       "    <tr>\n",
       "      <td>75%</td>\n",
       "      <td>154.000000</td>\n",
       "      <td>102.400000</td>\n",
       "      <td>183.100000</td>\n",
       "      <td>66.900000</td>\n",
       "      <td>55.500000</td>\n",
       "      <td>2935.000000</td>\n",
       "      <td>141.000000</td>\n",
       "      <td>3.580000</td>\n",
       "      <td>3.410000</td>\n",
       "      <td>9.400000</td>\n",
       "      <td>116.000000</td>\n",
       "      <td>5500.000000</td>\n",
       "      <td>30.000000</td>\n",
       "      <td>34.000000</td>\n",
       "      <td>16503.000000</td>\n",
       "    </tr>\n",
       "    <tr>\n",
       "      <td>max</td>\n",
       "      <td>205.000000</td>\n",
       "      <td>120.900000</td>\n",
       "      <td>208.100000</td>\n",
       "      <td>72.300000</td>\n",
       "      <td>59.800000</td>\n",
       "      <td>4066.000000</td>\n",
       "      <td>326.000000</td>\n",
       "      <td>3.940000</td>\n",
       "      <td>4.170000</td>\n",
       "      <td>23.000000</td>\n",
       "      <td>288.000000</td>\n",
       "      <td>6600.000000</td>\n",
       "      <td>49.000000</td>\n",
       "      <td>54.000000</td>\n",
       "      <td>45400.000000</td>\n",
       "    </tr>\n",
       "  </tbody>\n",
       "</table>\n",
       "</div>"
      ],
      "text/plain": [
       "           car_ID   wheelbase   carlength    carwidth   carheight  \\\n",
       "count  205.000000  205.000000  205.000000  205.000000  205.000000   \n",
       "mean   103.000000   98.756585  174.049268   65.907805   53.724878   \n",
       "std     59.322565    6.021776   12.337289    2.145204    2.443522   \n",
       "min      1.000000   86.600000  141.100000   60.300000   47.800000   \n",
       "25%     52.000000   94.500000  166.300000   64.100000   52.000000   \n",
       "50%    103.000000   97.000000  173.200000   65.500000   54.100000   \n",
       "75%    154.000000  102.400000  183.100000   66.900000   55.500000   \n",
       "max    205.000000  120.900000  208.100000   72.300000   59.800000   \n",
       "\n",
       "        curbweight  enginesize   boreratio      stroke  compressionratio  \\\n",
       "count   205.000000  205.000000  205.000000  205.000000        205.000000   \n",
       "mean   2555.565854  126.907317    3.329756    3.255415         10.142537   \n",
       "std     520.680204   41.642693    0.270844    0.313597          3.972040   \n",
       "min    1488.000000   61.000000    2.540000    2.070000          7.000000   \n",
       "25%    2145.000000   97.000000    3.150000    3.110000          8.600000   \n",
       "50%    2414.000000  120.000000    3.310000    3.290000          9.000000   \n",
       "75%    2935.000000  141.000000    3.580000    3.410000          9.400000   \n",
       "max    4066.000000  326.000000    3.940000    4.170000         23.000000   \n",
       "\n",
       "       horsepower      peakrpm     citympg  highwaympg         price  \n",
       "count  205.000000   205.000000  205.000000  205.000000    205.000000  \n",
       "mean   104.117073  5125.121951   25.219512   30.751220  13276.710571  \n",
       "std     39.544167   476.985643    6.542142    6.886443   7988.852332  \n",
       "min     48.000000  4150.000000   13.000000   16.000000   5118.000000  \n",
       "25%     70.000000  4800.000000   19.000000   25.000000   7788.000000  \n",
       "50%     95.000000  5200.000000   24.000000   30.000000  10295.000000  \n",
       "75%    116.000000  5500.000000   30.000000   34.000000  16503.000000  \n",
       "max    288.000000  6600.000000   49.000000   54.000000  45400.000000  "
      ]
     },
     "execution_count": 28,
     "metadata": {},
     "output_type": "execute_result"
    }
   ],
   "source": [
    "# outliers\n",
    "cars.describe()"
   ]
  },
  {
   "cell_type": "code",
   "execution_count": 29,
   "metadata": {
    "id": "OPDLFrX2hiwJ",
    "outputId": "27e5349e-2c7a-4714-bcc8-8b488fe4f997"
   },
   "outputs": [
    {
     "name": "stdout",
     "output_type": "stream",
     "text": [
      "<class 'pandas.core.frame.DataFrame'>\n",
      "RangeIndex: 205 entries, 0 to 204\n",
      "Data columns (total 26 columns):\n",
      "car_ID              205 non-null int64\n",
      "symboling           205 non-null object\n",
      "fueltype            205 non-null object\n",
      "aspiration          205 non-null object\n",
      "doornumber          205 non-null object\n",
      "carbody             205 non-null object\n",
      "drivewheel          205 non-null object\n",
      "enginelocation      205 non-null object\n",
      "wheelbase           205 non-null float64\n",
      "carlength           205 non-null float64\n",
      "carwidth            205 non-null float64\n",
      "carheight           205 non-null float64\n",
      "curbweight          205 non-null int64\n",
      "enginetype          205 non-null object\n",
      "cylindernumber      205 non-null object\n",
      "enginesize          205 non-null int64\n",
      "fuelsystem          205 non-null object\n",
      "boreratio           205 non-null float64\n",
      "stroke              205 non-null float64\n",
      "compressionratio    205 non-null float64\n",
      "horsepower          205 non-null int64\n",
      "peakrpm             205 non-null int64\n",
      "citympg             205 non-null int64\n",
      "highwaympg          205 non-null int64\n",
      "price               205 non-null float64\n",
      "car_company         205 non-null object\n",
      "dtypes: float64(8), int64(7), object(11)\n",
      "memory usage: 41.8+ KB\n"
     ]
    }
   ],
   "source": [
    "cars.info()"
   ]
  },
  {
   "cell_type": "markdown",
   "metadata": {
    "id": "4JxY_t6GhiwJ"
   },
   "source": [
    "## 3. Data Preparation \n",
    "\n",
    "\n",
    "#### Data Preparation\n",
    "\n",
    "Let's now prepare the data and build the model."
   ]
  },
  {
   "cell_type": "code",
   "execution_count": 30,
   "metadata": {
    "id": "EKtNPyK2hiwJ"
   },
   "outputs": [],
   "source": [
    "# split into X and y\n",
    "X = cars.loc[:, ['symboling', 'fueltype', 'aspiration', 'doornumber',\n",
    "       'carbody', 'drivewheel', 'enginelocation', 'wheelbase', 'carlength',\n",
    "       'carwidth', 'carheight', 'curbweight', 'enginetype', 'cylindernumber',\n",
    "       'enginesize', 'fuelsystem', 'boreratio', 'stroke', 'compressionratio',\n",
    "       'horsepower', 'peakrpm', 'citympg', 'highwaympg',\n",
    "       'car_company']] # predictors in variable X\n",
    "\n",
    "y = cars['price'] # response variable in Y\n"
   ]
  },
  {
   "cell_type": "code",
   "execution_count": 31,
   "metadata": {
    "id": "9JwcN_AehiwK",
    "outputId": "56ae4255-978e-48b9-8fe9-acaa5b4d32b2"
   },
   "outputs": [
    {
     "data": {
      "text/html": [
       "<div>\n",
       "<style scoped>\n",
       "    .dataframe tbody tr th:only-of-type {\n",
       "        vertical-align: middle;\n",
       "    }\n",
       "\n",
       "    .dataframe tbody tr th {\n",
       "        vertical-align: top;\n",
       "    }\n",
       "\n",
       "    .dataframe thead th {\n",
       "        text-align: right;\n",
       "    }\n",
       "</style>\n",
       "<table border=\"1\" class=\"dataframe\">\n",
       "  <thead>\n",
       "    <tr style=\"text-align: right;\">\n",
       "      <th></th>\n",
       "      <th>symboling</th>\n",
       "      <th>fueltype</th>\n",
       "      <th>aspiration</th>\n",
       "      <th>doornumber</th>\n",
       "      <th>carbody</th>\n",
       "      <th>drivewheel</th>\n",
       "      <th>enginelocation</th>\n",
       "      <th>enginetype</th>\n",
       "      <th>cylindernumber</th>\n",
       "      <th>fuelsystem</th>\n",
       "      <th>car_company</th>\n",
       "    </tr>\n",
       "  </thead>\n",
       "  <tbody>\n",
       "    <tr>\n",
       "      <td>0</td>\n",
       "      <td>3</td>\n",
       "      <td>gas</td>\n",
       "      <td>std</td>\n",
       "      <td>two</td>\n",
       "      <td>convertible</td>\n",
       "      <td>rwd</td>\n",
       "      <td>front</td>\n",
       "      <td>dohc</td>\n",
       "      <td>four</td>\n",
       "      <td>mpfi</td>\n",
       "      <td>alfa-romero</td>\n",
       "    </tr>\n",
       "    <tr>\n",
       "      <td>1</td>\n",
       "      <td>3</td>\n",
       "      <td>gas</td>\n",
       "      <td>std</td>\n",
       "      <td>two</td>\n",
       "      <td>convertible</td>\n",
       "      <td>rwd</td>\n",
       "      <td>front</td>\n",
       "      <td>dohc</td>\n",
       "      <td>four</td>\n",
       "      <td>mpfi</td>\n",
       "      <td>alfa-romero</td>\n",
       "    </tr>\n",
       "    <tr>\n",
       "      <td>2</td>\n",
       "      <td>1</td>\n",
       "      <td>gas</td>\n",
       "      <td>std</td>\n",
       "      <td>two</td>\n",
       "      <td>hatchback</td>\n",
       "      <td>rwd</td>\n",
       "      <td>front</td>\n",
       "      <td>ohcv</td>\n",
       "      <td>six</td>\n",
       "      <td>mpfi</td>\n",
       "      <td>alfa-romero</td>\n",
       "    </tr>\n",
       "    <tr>\n",
       "      <td>3</td>\n",
       "      <td>2</td>\n",
       "      <td>gas</td>\n",
       "      <td>std</td>\n",
       "      <td>four</td>\n",
       "      <td>sedan</td>\n",
       "      <td>fwd</td>\n",
       "      <td>front</td>\n",
       "      <td>ohc</td>\n",
       "      <td>four</td>\n",
       "      <td>mpfi</td>\n",
       "      <td>audi</td>\n",
       "    </tr>\n",
       "    <tr>\n",
       "      <td>4</td>\n",
       "      <td>2</td>\n",
       "      <td>gas</td>\n",
       "      <td>std</td>\n",
       "      <td>four</td>\n",
       "      <td>sedan</td>\n",
       "      <td>4wd</td>\n",
       "      <td>front</td>\n",
       "      <td>ohc</td>\n",
       "      <td>five</td>\n",
       "      <td>mpfi</td>\n",
       "      <td>audi</td>\n",
       "    </tr>\n",
       "  </tbody>\n",
       "</table>\n",
       "</div>"
      ],
      "text/plain": [
       "  symboling fueltype aspiration doornumber      carbody drivewheel  \\\n",
       "0         3      gas        std        two  convertible        rwd   \n",
       "1         3      gas        std        two  convertible        rwd   \n",
       "2         1      gas        std        two    hatchback        rwd   \n",
       "3         2      gas        std       four        sedan        fwd   \n",
       "4         2      gas        std       four        sedan        4wd   \n",
       "\n",
       "  enginelocation enginetype cylindernumber fuelsystem  car_company  \n",
       "0          front       dohc           four       mpfi  alfa-romero  \n",
       "1          front       dohc           four       mpfi  alfa-romero  \n",
       "2          front       ohcv            six       mpfi  alfa-romero  \n",
       "3          front        ohc           four       mpfi         audi  \n",
       "4          front        ohc           five       mpfi         audi  "
      ]
     },
     "execution_count": 31,
     "metadata": {},
     "output_type": "execute_result"
    }
   ],
   "source": [
    "# creating dummy variables for categorical variables\n",
    "\n",
    "# subset all categorical variables\n",
    "cars_categorical = X.select_dtypes(include=['object'])\n",
    "cars_categorical.head()\n"
   ]
  },
  {
   "cell_type": "code",
   "execution_count": 32,
   "metadata": {
    "id": "evA7r7WThiwL",
    "outputId": "d61a3e77-36c2-4b7c-d10c-47d3a224c439"
   },
   "outputs": [
    {
     "data": {
      "text/html": [
       "<div>\n",
       "<style scoped>\n",
       "    .dataframe tbody tr th:only-of-type {\n",
       "        vertical-align: middle;\n",
       "    }\n",
       "\n",
       "    .dataframe tbody tr th {\n",
       "        vertical-align: top;\n",
       "    }\n",
       "\n",
       "    .dataframe thead th {\n",
       "        text-align: right;\n",
       "    }\n",
       "</style>\n",
       "<table border=\"1\" class=\"dataframe\">\n",
       "  <thead>\n",
       "    <tr style=\"text-align: right;\">\n",
       "      <th></th>\n",
       "      <th>symboling_-1</th>\n",
       "      <th>symboling_0</th>\n",
       "      <th>symboling_1</th>\n",
       "      <th>symboling_2</th>\n",
       "      <th>symboling_3</th>\n",
       "      <th>fueltype_gas</th>\n",
       "      <th>aspiration_turbo</th>\n",
       "      <th>doornumber_two</th>\n",
       "      <th>carbody_hardtop</th>\n",
       "      <th>carbody_hatchback</th>\n",
       "      <th>...</th>\n",
       "      <th>car_company_nissan</th>\n",
       "      <th>car_company_peugeot</th>\n",
       "      <th>car_company_plymouth</th>\n",
       "      <th>car_company_porsche</th>\n",
       "      <th>car_company_renault</th>\n",
       "      <th>car_company_saab</th>\n",
       "      <th>car_company_subaru</th>\n",
       "      <th>car_company_toyota</th>\n",
       "      <th>car_company_volkswagen</th>\n",
       "      <th>car_company_volvo</th>\n",
       "    </tr>\n",
       "  </thead>\n",
       "  <tbody>\n",
       "    <tr>\n",
       "      <td>0</td>\n",
       "      <td>0</td>\n",
       "      <td>0</td>\n",
       "      <td>0</td>\n",
       "      <td>0</td>\n",
       "      <td>1</td>\n",
       "      <td>1</td>\n",
       "      <td>0</td>\n",
       "      <td>1</td>\n",
       "      <td>0</td>\n",
       "      <td>0</td>\n",
       "      <td>...</td>\n",
       "      <td>0</td>\n",
       "      <td>0</td>\n",
       "      <td>0</td>\n",
       "      <td>0</td>\n",
       "      <td>0</td>\n",
       "      <td>0</td>\n",
       "      <td>0</td>\n",
       "      <td>0</td>\n",
       "      <td>0</td>\n",
       "      <td>0</td>\n",
       "    </tr>\n",
       "    <tr>\n",
       "      <td>1</td>\n",
       "      <td>0</td>\n",
       "      <td>0</td>\n",
       "      <td>0</td>\n",
       "      <td>0</td>\n",
       "      <td>1</td>\n",
       "      <td>1</td>\n",
       "      <td>0</td>\n",
       "      <td>1</td>\n",
       "      <td>0</td>\n",
       "      <td>0</td>\n",
       "      <td>...</td>\n",
       "      <td>0</td>\n",
       "      <td>0</td>\n",
       "      <td>0</td>\n",
       "      <td>0</td>\n",
       "      <td>0</td>\n",
       "      <td>0</td>\n",
       "      <td>0</td>\n",
       "      <td>0</td>\n",
       "      <td>0</td>\n",
       "      <td>0</td>\n",
       "    </tr>\n",
       "    <tr>\n",
       "      <td>2</td>\n",
       "      <td>0</td>\n",
       "      <td>0</td>\n",
       "      <td>1</td>\n",
       "      <td>0</td>\n",
       "      <td>0</td>\n",
       "      <td>1</td>\n",
       "      <td>0</td>\n",
       "      <td>1</td>\n",
       "      <td>0</td>\n",
       "      <td>1</td>\n",
       "      <td>...</td>\n",
       "      <td>0</td>\n",
       "      <td>0</td>\n",
       "      <td>0</td>\n",
       "      <td>0</td>\n",
       "      <td>0</td>\n",
       "      <td>0</td>\n",
       "      <td>0</td>\n",
       "      <td>0</td>\n",
       "      <td>0</td>\n",
       "      <td>0</td>\n",
       "    </tr>\n",
       "    <tr>\n",
       "      <td>3</td>\n",
       "      <td>0</td>\n",
       "      <td>0</td>\n",
       "      <td>0</td>\n",
       "      <td>1</td>\n",
       "      <td>0</td>\n",
       "      <td>1</td>\n",
       "      <td>0</td>\n",
       "      <td>0</td>\n",
       "      <td>0</td>\n",
       "      <td>0</td>\n",
       "      <td>...</td>\n",
       "      <td>0</td>\n",
       "      <td>0</td>\n",
       "      <td>0</td>\n",
       "      <td>0</td>\n",
       "      <td>0</td>\n",
       "      <td>0</td>\n",
       "      <td>0</td>\n",
       "      <td>0</td>\n",
       "      <td>0</td>\n",
       "      <td>0</td>\n",
       "    </tr>\n",
       "    <tr>\n",
       "      <td>4</td>\n",
       "      <td>0</td>\n",
       "      <td>0</td>\n",
       "      <td>0</td>\n",
       "      <td>1</td>\n",
       "      <td>0</td>\n",
       "      <td>1</td>\n",
       "      <td>0</td>\n",
       "      <td>0</td>\n",
       "      <td>0</td>\n",
       "      <td>0</td>\n",
       "      <td>...</td>\n",
       "      <td>0</td>\n",
       "      <td>0</td>\n",
       "      <td>0</td>\n",
       "      <td>0</td>\n",
       "      <td>0</td>\n",
       "      <td>0</td>\n",
       "      <td>0</td>\n",
       "      <td>0</td>\n",
       "      <td>0</td>\n",
       "      <td>0</td>\n",
       "    </tr>\n",
       "  </tbody>\n",
       "</table>\n",
       "<p>5 rows × 55 columns</p>\n",
       "</div>"
      ],
      "text/plain": [
       "   symboling_-1  symboling_0  symboling_1  symboling_2  symboling_3  \\\n",
       "0             0            0            0            0            1   \n",
       "1             0            0            0            0            1   \n",
       "2             0            0            1            0            0   \n",
       "3             0            0            0            1            0   \n",
       "4             0            0            0            1            0   \n",
       "\n",
       "   fueltype_gas  aspiration_turbo  doornumber_two  carbody_hardtop  \\\n",
       "0             1                 0               1                0   \n",
       "1             1                 0               1                0   \n",
       "2             1                 0               1                0   \n",
       "3             1                 0               0                0   \n",
       "4             1                 0               0                0   \n",
       "\n",
       "   carbody_hatchback  ...  car_company_nissan  car_company_peugeot  \\\n",
       "0                  0  ...                   0                    0   \n",
       "1                  0  ...                   0                    0   \n",
       "2                  1  ...                   0                    0   \n",
       "3                  0  ...                   0                    0   \n",
       "4                  0  ...                   0                    0   \n",
       "\n",
       "   car_company_plymouth  car_company_porsche  car_company_renault  \\\n",
       "0                     0                    0                    0   \n",
       "1                     0                    0                    0   \n",
       "2                     0                    0                    0   \n",
       "3                     0                    0                    0   \n",
       "4                     0                    0                    0   \n",
       "\n",
       "   car_company_saab  car_company_subaru  car_company_toyota  \\\n",
       "0                 0                   0                   0   \n",
       "1                 0                   0                   0   \n",
       "2                 0                   0                   0   \n",
       "3                 0                   0                   0   \n",
       "4                 0                   0                   0   \n",
       "\n",
       "   car_company_volkswagen  car_company_volvo  \n",
       "0                       0                  0  \n",
       "1                       0                  0  \n",
       "2                       0                  0  \n",
       "3                       0                  0  \n",
       "4                       0                  0  \n",
       "\n",
       "[5 rows x 55 columns]"
      ]
     },
     "execution_count": 32,
     "metadata": {},
     "output_type": "execute_result"
    }
   ],
   "source": [
    "# convert into dummies - one hot encoding\n",
    "cars_dummies = pd.get_dummies(cars_categorical, drop_first=True)\n",
    "cars_dummies.head()"
   ]
  },
  {
   "cell_type": "code",
   "execution_count": 33,
   "metadata": {
    "id": "dndHXh3chiwM"
   },
   "outputs": [],
   "source": [
    "# drop categorical variables \n",
    "X = X.drop(list(cars_categorical.columns), axis=1)"
   ]
  },
  {
   "cell_type": "code",
   "execution_count": 34,
   "metadata": {
    "id": "o4ZCp23fhiwN"
   },
   "outputs": [],
   "source": [
    "# concat dummy variables with X\n",
    "X = pd.concat([X, cars_dummies], axis=1)"
   ]
  },
  {
   "cell_type": "code",
   "execution_count": 35,
   "metadata": {
    "id": "lzWyyYERhiwN",
    "outputId": "31447630-a54e-4dd9-a954-44faa101222d"
   },
   "outputs": [
    {
     "data": {
      "text/plain": [
       "Index(['wheelbase', 'carlength', 'carwidth', 'carheight', 'curbweight',\n",
       "       'enginesize', 'boreratio', 'stroke', 'compressionratio', 'horsepower',\n",
       "       'peakrpm', 'citympg', 'highwaympg', 'symboling_-1', 'symboling_0',\n",
       "       'symboling_1', 'symboling_2', 'symboling_3', 'fueltype_gas',\n",
       "       'aspiration_turbo', 'doornumber_two', 'carbody_hardtop',\n",
       "       'carbody_hatchback', 'carbody_sedan', 'carbody_wagon', 'drivewheel_fwd',\n",
       "       'drivewheel_rwd', 'enginelocation_rear', 'enginetype_dohcv',\n",
       "       'enginetype_l', 'enginetype_ohc', 'enginetype_ohcf', 'enginetype_ohcv',\n",
       "       'enginetype_rotor', 'cylindernumber_five', 'cylindernumber_four',\n",
       "       'cylindernumber_six', 'cylindernumber_three', 'cylindernumber_twelve',\n",
       "       'cylindernumber_two', 'fuelsystem_2bbl', 'fuelsystem_4bbl',\n",
       "       'fuelsystem_idi', 'fuelsystem_mfi', 'fuelsystem_mpfi',\n",
       "       'fuelsystem_spdi', 'fuelsystem_spfi', 'car_company_audi',\n",
       "       'car_company_bmw', 'car_company_buick', 'car_company_chevrolet',\n",
       "       'car_company_dodge', 'car_company_honda', 'car_company_isuzu',\n",
       "       'car_company_jaguar', 'car_company_mazda', 'car_company_mercury',\n",
       "       'car_company_mitsubishi', 'car_company_nissan', 'car_company_peugeot',\n",
       "       'car_company_plymouth', 'car_company_porsche', 'car_company_renault',\n",
       "       'car_company_saab', 'car_company_subaru', 'car_company_toyota',\n",
       "       'car_company_volkswagen', 'car_company_volvo'],\n",
       "      dtype='object')"
      ]
     },
     "execution_count": 35,
     "metadata": {},
     "output_type": "execute_result"
    }
   ],
   "source": [
    "# scaling the features - necessary before using Ridge or Lasso\n",
    "from sklearn.preprocessing import scale\n",
    "\n",
    "# storing column names in cols, since column names are (annoyingly) lost after \n",
    "# scaling (the df is converted to a numpy array)\n",
    "cols = X.columns\n",
    "X = pd.DataFrame(scale(X))\n",
    "X.columns = cols\n",
    "X.columns"
   ]
  },
  {
   "cell_type": "code",
   "execution_count": 36,
   "metadata": {
    "id": "dse0gWDXhiwN"
   },
   "outputs": [],
   "source": [
    "# split into train and test\n",
    "from sklearn.model_selection import train_test_split\n",
    "X_train, X_test, y_train, y_test = train_test_split(X, y, \n",
    "                                                    train_size=0.7,\n",
    "                                                    test_size = 0.3, random_state=100)"
   ]
  },
  {
   "cell_type": "markdown",
   "metadata": {
    "id": "83VqqSx6hiwO"
   },
   "source": [
    "## 3. Model Building and Evaluation"
   ]
  },
  {
   "cell_type": "markdown",
   "metadata": {
    "id": "IMGN9EsrhiwO"
   },
   "source": [
    "## Linear Regression\n",
    "\n",
    "Let's now try predicting car prices, a dataset using linear regression."
   ]
  },
  {
   "cell_type": "code",
   "execution_count": 37,
   "metadata": {
    "id": "9hGRWFnChiwO",
    "outputId": "99343d2f-b1c7-4689-d5ef-51ccd98fc7ac"
   },
   "outputs": [
    {
     "data": {
      "text/plain": [
       "LinearRegression(copy_X=True, fit_intercept=True, n_jobs=None, normalize=False)"
      ]
     },
     "execution_count": 37,
     "metadata": {},
     "output_type": "execute_result"
    }
   ],
   "source": [
    "# Instantiate\n",
    "lm = LinearRegression()\n",
    "\n",
    "# Fit a line\n",
    "lm.fit(X_train, y_train)"
   ]
  },
  {
   "cell_type": "code",
   "execution_count": 38,
   "metadata": {
    "id": "xX2E0yiuhiwP",
    "outputId": "7cdf704f-0afe-49a0-ba46-26f7ddcc08d9"
   },
   "outputs": [
    {
     "name": "stdout",
     "output_type": "stream",
     "text": [
      "13400.718964448775\n",
      "[ 1.28804792e+03 -1.04955210e+03  1.68834559e+03 -1.25904071e+03\n",
      "  2.42027090e+03  1.16263350e+04 -4.85038954e+03 -1.13424087e+03\n",
      " -2.56951960e+03 -9.73644812e+02  1.35681433e+03 -2.61818510e+02\n",
      "  7.44239551e+02  7.36334360e+02  8.01800617e+02  7.02360200e+02\n",
      "  6.47750839e+02  3.50558608e+02 -1.20683560e+03  1.01248452e+03\n",
      " -2.33385958e+02 -7.69280387e+02 -1.83640992e+03 -1.66162816e+03\n",
      " -9.12566337e+02 -9.28943930e+01  4.42816604e+02  1.15665864e+03\n",
      "  5.50557360e+02  6.45972107e+01  1.55937229e+02  9.01690070e+02\n",
      " -2.89587453e+02  2.03544173e+03  2.20137145e+03  6.79103088e+03\n",
      "  1.39274072e+03  1.78808440e+03 -1.04955642e+03  2.03544173e+03\n",
      "  4.50875447e+02 -1.64299332e+02  1.20683560e+03  9.20863386e-12\n",
      " -2.08926886e+02 -5.83874480e+01 -4.32009983e-12  5.21573928e+02\n",
      "  2.39504091e+03  3.76793525e+02 -1.83326364e+02 -6.98406228e+02\n",
      " -5.19749514e+02  6.03320099e+01 -4.92211850e+02  3.10813552e+02\n",
      " -6.82121026e-13 -1.05964701e+03  3.61145168e+02 -4.85552717e+02\n",
      " -6.84202629e+02  1.44392978e+03 -3.47875979e+01  1.33285633e+03\n",
      "  4.08594288e+02  2.66978488e+02  2.56635369e+02  9.97453681e+02]\n"
     ]
    }
   ],
   "source": [
    "# Print the coefficients and intercept\n",
    "print(lm.intercept_)\n",
    "print(lm.coef_)"
   ]
  },
  {
   "cell_type": "code",
   "execution_count": 39,
   "metadata": {
    "id": "oZq3IJglhiwQ"
   },
   "outputs": [],
   "source": [
    "from sklearn.metrics import r2_score, mean_squared_error"
   ]
  },
  {
   "cell_type": "code",
   "execution_count": 40,
   "metadata": {
    "id": "eiwdGp-_hiwQ",
    "outputId": "ff4f4a70-d12e-47cd-dc0d-7de36c9c18ef"
   },
   "outputs": [
    {
     "name": "stdout",
     "output_type": "stream",
     "text": [
      "0.9756892503873289\n",
      "0.8382621393399066\n",
      "210406502.35365194\n",
      "702234087.1202444\n",
      "1471374.1423332305\n",
      "11326356.24387491\n"
     ]
    }
   ],
   "source": [
    "y_pred_train = lm.predict(X_train)\n",
    "y_pred_test = lm.predict(X_test)\n",
    "\n",
    "metric = []\n",
    "r2_train_lr = r2_score(y_train, y_pred_train)\n",
    "print(r2_train_lr)\n",
    "metric.append(r2_train_lr)\n",
    "\n",
    "r2_test_lr = r2_score(y_test, y_pred_test)\n",
    "print(r2_test_lr)\n",
    "metric.append(r2_test_lr)\n",
    "\n",
    "rss1_lr = np.sum(np.square(y_train - y_pred_train))\n",
    "print(rss1_lr)\n",
    "metric.append(rss1_lr)\n",
    "\n",
    "rss2_lr = np.sum(np.square(y_test - y_pred_test))\n",
    "print(rss2_lr)\n",
    "metric.append(rss2_lr)\n",
    "\n",
    "mse_train_lr = mean_squared_error(y_train, y_pred_train)\n",
    "print(mse_train_lr)\n",
    "metric.append(mse_train_lr**0.5)\n",
    "\n",
    "mse_test_lr = mean_squared_error(y_test, y_pred_test)\n",
    "print(mse_test_lr)\n",
    "metric.append(mse_test_lr**0.5)"
   ]
  },
  {
   "cell_type": "markdown",
   "metadata": {
    "id": "jYLcxrmBhiwQ"
   },
   "source": [
    "## Ridge and Lasso Regression\n",
    "\n",
    "Let's now try predicting car prices, a dataset used in simple linear regression, to perform ridge and lasso regression."
   ]
  },
  {
   "cell_type": "markdown",
   "metadata": {
    "id": "cs0rWkeghiwR"
   },
   "source": [
    "## Ridge Regression"
   ]
  },
  {
   "cell_type": "code",
   "execution_count": 41,
   "metadata": {
    "id": "sa7lm5E2hiwR",
    "outputId": "f6d6d9aa-3310-451f-8a8a-eec441b9aae1"
   },
   "outputs": [
    {
     "name": "stdout",
     "output_type": "stream",
     "text": [
      "Fitting 5 folds for each of 28 candidates, totalling 140 fits\n"
     ]
    },
    {
     "name": "stderr",
     "output_type": "stream",
     "text": [
      "[Parallel(n_jobs=1)]: Using backend SequentialBackend with 1 concurrent workers.\n",
      "[Parallel(n_jobs=1)]: Done 140 out of 140 | elapsed:    0.8s finished\n"
     ]
    },
    {
     "data": {
      "text/plain": [
       "GridSearchCV(cv=5, error_score='raise-deprecating',\n",
       "             estimator=Ridge(alpha=1.0, copy_X=True, fit_intercept=True,\n",
       "                             max_iter=None, normalize=False, random_state=None,\n",
       "                             solver='auto', tol=0.001),\n",
       "             iid='warn', n_jobs=None,\n",
       "             param_grid={'alpha': [0.0001, 0.001, 0.01, 0.05, 0.1, 0.2, 0.3,\n",
       "                                   0.4, 0.5, 0.6, 0.7, 0.8, 0.9, 1.0, 2.0, 3.0,\n",
       "                                   4.0, 5.0, 6.0, 7.0, 8.0, 9.0, 10.0, 20, 50,\n",
       "                                   100, 500, 1000]},\n",
       "             pre_dispatch='2*n_jobs', refit=True, return_train_score=True,\n",
       "             scoring='neg_mean_absolute_error', verbose=1)"
      ]
     },
     "execution_count": 41,
     "metadata": {},
     "output_type": "execute_result"
    }
   ],
   "source": [
    "# list of alphas to tune - if value too high it will lead to underfitting, if it is too low, \n",
    "# it will not handle the overfitting\n",
    "params = {'alpha': [0.0001, 0.001, 0.01, 0.05, 0.1, \n",
    " 0.2, 0.3, 0.4, 0.5, 0.6, 0.7, 0.8, 0.9, 1.0, 2.0, 3.0, \n",
    " 4.0, 5.0, 6.0, 7.0, 8.0, 9.0, 10.0, 20, 50, 100, 500, 1000 ]}\n",
    "\n",
    "ridge = Ridge()\n",
    "\n",
    "# cross validation\n",
    "folds = 5\n",
    "model_cv = GridSearchCV(estimator = ridge, \n",
    "                        param_grid = params, \n",
    "                        scoring= 'neg_mean_absolute_error',  \n",
    "                        cv = folds, \n",
    "                        return_train_score=True,\n",
    "                        verbose = 1)            \n",
    "model_cv.fit(X_train, y_train) \n",
    "#https://scikit-learn.org/stable/modules/model_evaluation.html"
   ]
  },
  {
   "cell_type": "code",
   "execution_count": 42,
   "metadata": {
    "id": "JA_-Hz1RhiwR",
    "outputId": "dfb8c07b-2637-419f-a01b-f95f5f9aa97a"
   },
   "outputs": [
    {
     "name": "stdout",
     "output_type": "stream",
     "text": [
      "{'alpha': 10.0}\n"
     ]
    }
   ],
   "source": [
    "# Printing the best hyperparameter alpha\n",
    "print(model_cv.best_params_)"
   ]
  },
  {
   "cell_type": "code",
   "execution_count": 43,
   "metadata": {
    "id": "2mhAKh_ehiwS",
    "outputId": "807cb644-17dc-4121-91f0-0976eaa59009"
   },
   "outputs": [
    {
     "name": "stdout",
     "output_type": "stream",
     "text": [
      "[ 3.66439600e+02 -3.84733269e+01  1.48385910e+03 -4.28871390e+02\n",
      "  1.32508938e+03  1.53232524e+03 -1.32353686e+02 -3.43961178e+02\n",
      " -3.85991151e+01  1.00274451e+03  4.08530524e+02  3.06226713e+01\n",
      " -3.86573031e+01  2.80260386e+02  2.25689703e+02  1.15232435e+02\n",
      "  3.11172714e+01  2.20999290e+02 -2.36604555e+02  4.37146732e+02\n",
      "  8.11201095e+01 -4.17761691e+01 -6.36303725e+02 -3.89525755e+02\n",
      " -2.67865922e+02 -2.25694801e+02  2.17304590e+02  1.01331104e+03\n",
      " -7.99719800e+01 -2.11299602e+02  3.80633116e+02  5.02569921e+01\n",
      " -2.68490049e+01  1.31276809e+02 -5.38964122e+02 -5.61768987e+02\n",
      " -2.24243763e+02  3.30958997e+02 -3.41292337e+02  1.31276809e+02\n",
      "  9.03941997e+01 -1.92932138e+02  2.36604555e+02 -2.06485472e-28\n",
      " -6.35149689e+01 -1.25417650e+02 -2.06485472e-28  3.66335476e+02\n",
      "  1.54082286e+03  1.04052995e+03 -1.83880719e+02 -4.32144537e+02\n",
      " -3.65503794e+02 -6.64424355e+01  8.30476815e+02 -2.68159702e+02\n",
      " -2.06485472e-28 -7.10103895e+02 -4.24309992e+02 -3.22453130e+02\n",
      " -3.35256307e+02  5.94116597e+02 -2.27221245e+02  2.12510138e+02\n",
      " -4.62583518e+02 -5.92202827e+02 -1.24467623e+02  1.72803694e+00]\n"
     ]
    }
   ],
   "source": [
    "#Fitting Ridge model for alpha = 10 and printing coefficients which have been penalised\n",
    "alpha = 10\n",
    "ridge = Ridge(alpha=alpha)\n",
    "\n",
    "ridge.fit(X_train, y_train)\n",
    "print(ridge.coef_)"
   ]
  },
  {
   "cell_type": "code",
   "execution_count": 44,
   "metadata": {
    "id": "Sjt9NGpUhiwS",
    "outputId": "1cbdc0d1-5fe0-4849-8bcd-ecfd7bd1a9c0"
   },
   "outputs": [
    {
     "name": "stdout",
     "output_type": "stream",
     "text": [
      "0.9588720781564705\n",
      "0.9224482262406617\n",
      "355957028.1477883\n",
      "336714599.95935106\n",
      "2489209.9870474706\n",
      "5430880.644505662\n"
     ]
    }
   ],
   "source": [
    "# Lets calculate some metrics such as R2 score, RSS and RMSE\n",
    "y_pred_train = ridge.predict(X_train)\n",
    "y_pred_test = ridge.predict(X_test)\n",
    "\n",
    "metric2 = []\n",
    "r2_train_lr = r2_score(y_train, y_pred_train)\n",
    "print(r2_train_lr)\n",
    "metric2.append(r2_train_lr)\n",
    "\n",
    "r2_test_lr = r2_score(y_test, y_pred_test)\n",
    "print(r2_test_lr)\n",
    "metric2.append(r2_test_lr)\n",
    "\n",
    "rss1_lr = np.sum(np.square(y_train - y_pred_train))\n",
    "print(rss1_lr)\n",
    "metric2.append(rss1_lr)\n",
    "\n",
    "rss2_lr = np.sum(np.square(y_test - y_pred_test))\n",
    "print(rss2_lr)\n",
    "metric2.append(rss2_lr)\n",
    "\n",
    "mse_train_lr = mean_squared_error(y_train, y_pred_train)\n",
    "print(mse_train_lr)\n",
    "metric2.append(mse_train_lr**0.5)\n",
    "\n",
    "mse_test_lr = mean_squared_error(y_test, y_pred_test)\n",
    "print(mse_test_lr)\n",
    "metric2.append(mse_test_lr**0.5)"
   ]
  },
  {
   "cell_type": "markdown",
   "metadata": {
    "id": "8-FIn3tfhiwS"
   },
   "source": [
    "## Lasso"
   ]
  },
  {
   "cell_type": "code",
   "execution_count": 45,
   "metadata": {
    "id": "ruiE6ugbhiwT",
    "outputId": "a1b263d2-8ff5-4322-deca-494c9eaececa",
    "scrolled": false
   },
   "outputs": [
    {
     "name": "stderr",
     "output_type": "stream",
     "text": [
      "[Parallel(n_jobs=1)]: Using backend SequentialBackend with 1 concurrent workers.\n"
     ]
    },
    {
     "name": "stdout",
     "output_type": "stream",
     "text": [
      "Fitting 5 folds for each of 28 candidates, totalling 140 fits\n"
     ]
    },
    {
     "name": "stderr",
     "output_type": "stream",
     "text": [
      "[Parallel(n_jobs=1)]: Done 140 out of 140 | elapsed:    2.5s finished\n"
     ]
    },
    {
     "data": {
      "text/plain": [
       "GridSearchCV(cv=5, error_score='raise-deprecating',\n",
       "             estimator=Lasso(alpha=1.0, copy_X=True, fit_intercept=True,\n",
       "                             max_iter=1000, normalize=False, positive=False,\n",
       "                             precompute=False, random_state=None,\n",
       "                             selection='cyclic', tol=0.0001, warm_start=False),\n",
       "             iid='warn', n_jobs=None,\n",
       "             param_grid={'alpha': [0.0001, 0.001, 0.01, 0.05, 0.1, 0.2, 0.3,\n",
       "                                   0.4, 0.5, 0.6, 0.7, 0.8, 0.9, 1.0, 2.0, 3.0,\n",
       "                                   4.0, 5.0, 6.0, 7.0, 8.0, 9.0, 10.0, 20, 50,\n",
       "                                   100, 500, 1000]},\n",
       "             pre_dispatch='2*n_jobs', refit=True, return_train_score=True,\n",
       "             scoring='neg_mean_absolute_error', verbose=1)"
      ]
     },
     "execution_count": 45,
     "metadata": {},
     "output_type": "execute_result"
    }
   ],
   "source": [
    "lasso = Lasso()\n",
    "\n",
    "# cross validation\n",
    "model_cv = GridSearchCV(estimator = lasso, \n",
    "                        param_grid = params, \n",
    "                        scoring= 'neg_mean_absolute_error', \n",
    "                        cv = folds, \n",
    "                        return_train_score=True,\n",
    "                        verbose = 1)            \n",
    "\n",
    "model_cv.fit(X_train, y_train) "
   ]
  },
  {
   "cell_type": "code",
   "execution_count": 46,
   "metadata": {
    "id": "5HY-vHWJhiwT",
    "outputId": "250cc3e6-ea9a-428a-b00c-598710990981"
   },
   "outputs": [
    {
     "name": "stdout",
     "output_type": "stream",
     "text": [
      "{'alpha': 100}\n"
     ]
    }
   ],
   "source": [
    "# Printing the best hyperparameter alpha\n",
    "print(model_cv.best_params_)"
   ]
  },
  {
   "cell_type": "code",
   "execution_count": 47,
   "metadata": {
    "id": "pXWws0wHhiwT",
    "outputId": "294955be-a187-4a8b-9008-115a8778712e"
   },
   "outputs": [
    {
     "data": {
      "text/plain": [
       "Lasso(alpha=100, copy_X=True, fit_intercept=True, max_iter=1000,\n",
       "      normalize=False, positive=False, precompute=False, random_state=None,\n",
       "      selection='cyclic', tol=0.0001, warm_start=False)"
      ]
     },
     "execution_count": 47,
     "metadata": {},
     "output_type": "execute_result"
    }
   ],
   "source": [
    "#Fitting Ridge model for alpha = 100 and printing coefficients which have been penalised\n",
    "\n",
    "alpha =100\n",
    "\n",
    "lasso = Lasso(alpha=alpha)\n",
    "        \n",
    "lasso.fit(X_train, y_train) "
   ]
  },
  {
   "cell_type": "code",
   "execution_count": 48,
   "metadata": {
    "id": "f2in5KVahiwU",
    "outputId": "86e724f9-ba54-40a5-aa33-07e98da2084d"
   },
   "outputs": [
    {
     "data": {
      "text/plain": [
       "array([   0.        ,   -0.        , 1747.1052243 ,  -82.23183774,\n",
       "       1780.64173078,  788.28807799,   -0.        ,   -0.        ,\n",
       "          0.        , 1017.48820119,   84.89633333,    0.        ,\n",
       "         -0.        ,    0.        ,   -0.        ,   -0.        ,\n",
       "          0.        ,  246.519852  ,  -73.38572878,  120.56790634,\n",
       "          0.        ,    0.        , -187.60748943,    0.        ,\n",
       "        -96.25412649, -134.39227325,  294.27227486, 1218.02281069,\n",
       "          0.        ,   -0.        ,    0.        ,   -0.        ,\n",
       "         -0.        ,    0.        ,   -0.        , -202.47407284,\n",
       "         -0.        ,  197.70712322,   -0.        ,    0.        ,\n",
       "         -0.        ,   -0.        ,   58.81424436,   -0.        ,\n",
       "          0.        ,   -0.        ,   -0.        ,  186.35685239,\n",
       "       1805.30123983, 1210.72936345,    0.        ,   -0.        ,\n",
       "         -0.        ,   78.54297249,  796.29612837,    0.        ,\n",
       "         -0.        , -397.80411254,  -58.198149  , -377.78256238,\n",
       "         -0.        ,  592.06274204, -163.73847377,   95.37139425,\n",
       "       -198.09298955, -233.82794826,    0.        ,  206.40038676])"
      ]
     },
     "execution_count": 48,
     "metadata": {},
     "output_type": "execute_result"
    }
   ],
   "source": [
    "lasso.coef_"
   ]
  },
  {
   "cell_type": "code",
   "execution_count": 49,
   "metadata": {
    "id": "CMHg3t1VhiwU",
    "outputId": "690bc130-2402-4321-a74d-8d28bff323b0"
   },
   "outputs": [
    {
     "name": "stdout",
     "output_type": "stream",
     "text": [
      "0.9464707035896383\n",
      "0.9111235629694683\n",
      "463289376.53513217\n",
      "385884068.0216483\n",
      "3239785.849896029\n",
      "6223936.580994328\n"
     ]
    }
   ],
   "source": [
    "# Lets calculate some metrics such as R2 score, RSS and RMSE\n",
    "\n",
    "y_pred_train = lasso.predict(X_train)\n",
    "y_pred_test = lasso.predict(X_test)\n",
    "\n",
    "metric3 = []\n",
    "r2_train_lr = r2_score(y_train, y_pred_train)\n",
    "print(r2_train_lr)\n",
    "metric3.append(r2_train_lr)\n",
    "\n",
    "r2_test_lr = r2_score(y_test, y_pred_test)\n",
    "print(r2_test_lr)\n",
    "metric3.append(r2_test_lr)\n",
    "\n",
    "rss1_lr = np.sum(np.square(y_train - y_pred_train))\n",
    "print(rss1_lr)\n",
    "metric3.append(rss1_lr)\n",
    "\n",
    "rss2_lr = np.sum(np.square(y_test - y_pred_test))\n",
    "print(rss2_lr)\n",
    "metric3.append(rss2_lr)\n",
    "\n",
    "mse_train_lr = mean_squared_error(y_train, y_pred_train)\n",
    "print(mse_train_lr)\n",
    "metric3.append(mse_train_lr**0.5)\n",
    "\n",
    "mse_test_lr = mean_squared_error(y_test, y_pred_test)\n",
    "print(mse_test_lr)\n",
    "metric3.append(mse_test_lr**0.5)"
   ]
  },
  {
   "cell_type": "code",
   "execution_count": 50,
   "metadata": {
    "id": "KRZpFrRuhiwU",
    "outputId": "82ee7e4d-98db-43c5-a1ef-b1ab28a08ccc"
   },
   "outputs": [
    {
     "data": {
      "text/html": [
       "<div>\n",
       "<style scoped>\n",
       "    .dataframe tbody tr th:only-of-type {\n",
       "        vertical-align: middle;\n",
       "    }\n",
       "\n",
       "    .dataframe tbody tr th {\n",
       "        vertical-align: top;\n",
       "    }\n",
       "\n",
       "    .dataframe thead th {\n",
       "        text-align: right;\n",
       "    }\n",
       "</style>\n",
       "<table border=\"1\" class=\"dataframe\">\n",
       "  <thead>\n",
       "    <tr style=\"text-align: right;\">\n",
       "      <th></th>\n",
       "      <th>Metric</th>\n",
       "      <th>Linear Regression</th>\n",
       "      <th>Ridge Regression</th>\n",
       "      <th>Lasso Regression</th>\n",
       "    </tr>\n",
       "  </thead>\n",
       "  <tbody>\n",
       "    <tr>\n",
       "      <td>0</td>\n",
       "      <td>R2 Score (Train)</td>\n",
       "      <td>9.756893e-01</td>\n",
       "      <td>9.588721e-01</td>\n",
       "      <td>9.464707e-01</td>\n",
       "    </tr>\n",
       "    <tr>\n",
       "      <td>1</td>\n",
       "      <td>R2 Score (Test)</td>\n",
       "      <td>8.382621e-01</td>\n",
       "      <td>9.224482e-01</td>\n",
       "      <td>9.111236e-01</td>\n",
       "    </tr>\n",
       "    <tr>\n",
       "      <td>2</td>\n",
       "      <td>RSS (Train)</td>\n",
       "      <td>2.104065e+08</td>\n",
       "      <td>3.559570e+08</td>\n",
       "      <td>4.632894e+08</td>\n",
       "    </tr>\n",
       "    <tr>\n",
       "      <td>3</td>\n",
       "      <td>RSS (Test)</td>\n",
       "      <td>7.022341e+08</td>\n",
       "      <td>3.367146e+08</td>\n",
       "      <td>3.858841e+08</td>\n",
       "    </tr>\n",
       "    <tr>\n",
       "      <td>4</td>\n",
       "      <td>MSE (Train)</td>\n",
       "      <td>1.213002e+03</td>\n",
       "      <td>1.577723e+03</td>\n",
       "      <td>1.799941e+03</td>\n",
       "    </tr>\n",
       "    <tr>\n",
       "      <td>5</td>\n",
       "      <td>MSE (Test)</td>\n",
       "      <td>3.365465e+03</td>\n",
       "      <td>2.330425e+03</td>\n",
       "      <td>2.494782e+03</td>\n",
       "    </tr>\n",
       "  </tbody>\n",
       "</table>\n",
       "</div>"
      ],
      "text/plain": [
       "             Metric  Linear Regression  Ridge Regression  Lasso Regression\n",
       "0  R2 Score (Train)       9.756893e-01      9.588721e-01      9.464707e-01\n",
       "1   R2 Score (Test)       8.382621e-01      9.224482e-01      9.111236e-01\n",
       "2       RSS (Train)       2.104065e+08      3.559570e+08      4.632894e+08\n",
       "3        RSS (Test)       7.022341e+08      3.367146e+08      3.858841e+08\n",
       "4       MSE (Train)       1.213002e+03      1.577723e+03      1.799941e+03\n",
       "5        MSE (Test)       3.365465e+03      2.330425e+03      2.494782e+03"
      ]
     },
     "execution_count": 50,
     "metadata": {},
     "output_type": "execute_result"
    }
   ],
   "source": [
    "# Creating a table which contain all the metrics\n",
    "\n",
    "lr_table = {'Metric': ['R2 Score (Train)','R2 Score (Test)','RSS (Train)','RSS (Test)',\n",
    "                       'MSE (Train)','MSE (Test)'], \n",
    "        'Linear Regression': metric\n",
    "        }\n",
    "\n",
    "lr_metric = pd.DataFrame(lr_table ,columns = ['Metric', 'Linear Regression'] )\n",
    "\n",
    "rg_metric = pd.Series(metric2, name = 'Ridge Regression')\n",
    "ls_metric = pd.Series(metric3, name = 'Lasso Regression')\n",
    "\n",
    "final_metric = pd.concat([lr_metric, rg_metric, ls_metric], axis = 1)\n",
    "\n",
    "final_metric"
   ]
  },
  {
   "cell_type": "markdown",
   "metadata": {
    "id": "yDgil2rEhiwV"
   },
   "source": [
    "## Lets observe the changes in the coefficients after regularization"
   ]
  },
  {
   "cell_type": "code",
   "execution_count": 51,
   "metadata": {
    "id": "BzmTLPRdhiwV"
   },
   "outputs": [],
   "source": [
    "betas = pd.DataFrame(index=X.columns)"
   ]
  },
  {
   "cell_type": "code",
   "execution_count": 52,
   "metadata": {
    "id": "LBRaw8QphiwV"
   },
   "outputs": [],
   "source": [
    "betas.rows = X.columns"
   ]
  },
  {
   "cell_type": "code",
   "execution_count": 53,
   "metadata": {
    "id": "tSHNso5RhiwV"
   },
   "outputs": [],
   "source": [
    "betas['Linear'] = lm.coef_\n",
    "betas['Ridge'] = ridge.coef_\n",
    "betas['Lasso'] = lasso.coef_"
   ]
  },
  {
   "cell_type": "code",
   "execution_count": 54,
   "metadata": {
    "id": "zL2srCWqhiwV",
    "outputId": "52651d6f-9198-428a-cb9c-5b42aa0846a3"
   },
   "outputs": [
    {
     "data": {
      "text/html": [
       "<div>\n",
       "<style scoped>\n",
       "    .dataframe tbody tr th:only-of-type {\n",
       "        vertical-align: middle;\n",
       "    }\n",
       "\n",
       "    .dataframe tbody tr th {\n",
       "        vertical-align: top;\n",
       "    }\n",
       "\n",
       "    .dataframe thead th {\n",
       "        text-align: right;\n",
       "    }\n",
       "</style>\n",
       "<table border=\"1\" class=\"dataframe\">\n",
       "  <thead>\n",
       "    <tr style=\"text-align: right;\">\n",
       "      <th></th>\n",
       "      <th>Linear</th>\n",
       "      <th>Ridge</th>\n",
       "      <th>Lasso</th>\n",
       "    </tr>\n",
       "  </thead>\n",
       "  <tbody>\n",
       "    <tr>\n",
       "      <td>wheelbase</td>\n",
       "      <td>1.288048e+03</td>\n",
       "      <td>3.664396e+02</td>\n",
       "      <td>0.000000</td>\n",
       "    </tr>\n",
       "    <tr>\n",
       "      <td>carlength</td>\n",
       "      <td>-1.049552e+03</td>\n",
       "      <td>-3.847333e+01</td>\n",
       "      <td>-0.000000</td>\n",
       "    </tr>\n",
       "    <tr>\n",
       "      <td>carwidth</td>\n",
       "      <td>1.688346e+03</td>\n",
       "      <td>1.483859e+03</td>\n",
       "      <td>1747.105224</td>\n",
       "    </tr>\n",
       "    <tr>\n",
       "      <td>carheight</td>\n",
       "      <td>-1.259041e+03</td>\n",
       "      <td>-4.288714e+02</td>\n",
       "      <td>-82.231838</td>\n",
       "    </tr>\n",
       "    <tr>\n",
       "      <td>curbweight</td>\n",
       "      <td>2.420271e+03</td>\n",
       "      <td>1.325089e+03</td>\n",
       "      <td>1780.641731</td>\n",
       "    </tr>\n",
       "    <tr>\n",
       "      <td>enginesize</td>\n",
       "      <td>1.162634e+04</td>\n",
       "      <td>1.532325e+03</td>\n",
       "      <td>788.288078</td>\n",
       "    </tr>\n",
       "    <tr>\n",
       "      <td>boreratio</td>\n",
       "      <td>-4.850390e+03</td>\n",
       "      <td>-1.323537e+02</td>\n",
       "      <td>-0.000000</td>\n",
       "    </tr>\n",
       "    <tr>\n",
       "      <td>stroke</td>\n",
       "      <td>-1.134241e+03</td>\n",
       "      <td>-3.439612e+02</td>\n",
       "      <td>-0.000000</td>\n",
       "    </tr>\n",
       "    <tr>\n",
       "      <td>compressionratio</td>\n",
       "      <td>-2.569520e+03</td>\n",
       "      <td>-3.859912e+01</td>\n",
       "      <td>0.000000</td>\n",
       "    </tr>\n",
       "    <tr>\n",
       "      <td>horsepower</td>\n",
       "      <td>-9.736448e+02</td>\n",
       "      <td>1.002745e+03</td>\n",
       "      <td>1017.488201</td>\n",
       "    </tr>\n",
       "    <tr>\n",
       "      <td>peakrpm</td>\n",
       "      <td>1.356814e+03</td>\n",
       "      <td>4.085305e+02</td>\n",
       "      <td>84.896333</td>\n",
       "    </tr>\n",
       "    <tr>\n",
       "      <td>citympg</td>\n",
       "      <td>-2.618185e+02</td>\n",
       "      <td>3.062267e+01</td>\n",
       "      <td>0.000000</td>\n",
       "    </tr>\n",
       "    <tr>\n",
       "      <td>highwaympg</td>\n",
       "      <td>7.442396e+02</td>\n",
       "      <td>-3.865730e+01</td>\n",
       "      <td>-0.000000</td>\n",
       "    </tr>\n",
       "    <tr>\n",
       "      <td>symboling_-1</td>\n",
       "      <td>7.363344e+02</td>\n",
       "      <td>2.802604e+02</td>\n",
       "      <td>0.000000</td>\n",
       "    </tr>\n",
       "    <tr>\n",
       "      <td>symboling_0</td>\n",
       "      <td>8.018006e+02</td>\n",
       "      <td>2.256897e+02</td>\n",
       "      <td>-0.000000</td>\n",
       "    </tr>\n",
       "    <tr>\n",
       "      <td>symboling_1</td>\n",
       "      <td>7.023602e+02</td>\n",
       "      <td>1.152324e+02</td>\n",
       "      <td>-0.000000</td>\n",
       "    </tr>\n",
       "    <tr>\n",
       "      <td>symboling_2</td>\n",
       "      <td>6.477508e+02</td>\n",
       "      <td>3.111727e+01</td>\n",
       "      <td>0.000000</td>\n",
       "    </tr>\n",
       "    <tr>\n",
       "      <td>symboling_3</td>\n",
       "      <td>3.505586e+02</td>\n",
       "      <td>2.209993e+02</td>\n",
       "      <td>246.519852</td>\n",
       "    </tr>\n",
       "    <tr>\n",
       "      <td>fueltype_gas</td>\n",
       "      <td>-1.206836e+03</td>\n",
       "      <td>-2.366046e+02</td>\n",
       "      <td>-73.385729</td>\n",
       "    </tr>\n",
       "    <tr>\n",
       "      <td>aspiration_turbo</td>\n",
       "      <td>1.012485e+03</td>\n",
       "      <td>4.371467e+02</td>\n",
       "      <td>120.567906</td>\n",
       "    </tr>\n",
       "    <tr>\n",
       "      <td>doornumber_two</td>\n",
       "      <td>-2.333860e+02</td>\n",
       "      <td>8.112011e+01</td>\n",
       "      <td>0.000000</td>\n",
       "    </tr>\n",
       "    <tr>\n",
       "      <td>carbody_hardtop</td>\n",
       "      <td>-7.692804e+02</td>\n",
       "      <td>-4.177617e+01</td>\n",
       "      <td>0.000000</td>\n",
       "    </tr>\n",
       "    <tr>\n",
       "      <td>carbody_hatchback</td>\n",
       "      <td>-1.836410e+03</td>\n",
       "      <td>-6.363037e+02</td>\n",
       "      <td>-187.607489</td>\n",
       "    </tr>\n",
       "    <tr>\n",
       "      <td>carbody_sedan</td>\n",
       "      <td>-1.661628e+03</td>\n",
       "      <td>-3.895258e+02</td>\n",
       "      <td>0.000000</td>\n",
       "    </tr>\n",
       "    <tr>\n",
       "      <td>carbody_wagon</td>\n",
       "      <td>-9.125663e+02</td>\n",
       "      <td>-2.678659e+02</td>\n",
       "      <td>-96.254126</td>\n",
       "    </tr>\n",
       "    <tr>\n",
       "      <td>drivewheel_fwd</td>\n",
       "      <td>-9.289439e+01</td>\n",
       "      <td>-2.256948e+02</td>\n",
       "      <td>-134.392273</td>\n",
       "    </tr>\n",
       "    <tr>\n",
       "      <td>drivewheel_rwd</td>\n",
       "      <td>4.428166e+02</td>\n",
       "      <td>2.173046e+02</td>\n",
       "      <td>294.272275</td>\n",
       "    </tr>\n",
       "    <tr>\n",
       "      <td>enginelocation_rear</td>\n",
       "      <td>1.156659e+03</td>\n",
       "      <td>1.013311e+03</td>\n",
       "      <td>1218.022811</td>\n",
       "    </tr>\n",
       "    <tr>\n",
       "      <td>enginetype_dohcv</td>\n",
       "      <td>5.505574e+02</td>\n",
       "      <td>-7.997198e+01</td>\n",
       "      <td>0.000000</td>\n",
       "    </tr>\n",
       "    <tr>\n",
       "      <td>enginetype_l</td>\n",
       "      <td>6.459721e+01</td>\n",
       "      <td>-2.112996e+02</td>\n",
       "      <td>-0.000000</td>\n",
       "    </tr>\n",
       "    <tr>\n",
       "      <td>enginetype_ohc</td>\n",
       "      <td>1.559372e+02</td>\n",
       "      <td>3.806331e+02</td>\n",
       "      <td>0.000000</td>\n",
       "    </tr>\n",
       "    <tr>\n",
       "      <td>enginetype_ohcf</td>\n",
       "      <td>9.016901e+02</td>\n",
       "      <td>5.025699e+01</td>\n",
       "      <td>-0.000000</td>\n",
       "    </tr>\n",
       "    <tr>\n",
       "      <td>enginetype_ohcv</td>\n",
       "      <td>-2.895875e+02</td>\n",
       "      <td>-2.684900e+01</td>\n",
       "      <td>-0.000000</td>\n",
       "    </tr>\n",
       "    <tr>\n",
       "      <td>enginetype_rotor</td>\n",
       "      <td>2.035442e+03</td>\n",
       "      <td>1.312768e+02</td>\n",
       "      <td>0.000000</td>\n",
       "    </tr>\n",
       "    <tr>\n",
       "      <td>cylindernumber_five</td>\n",
       "      <td>2.201371e+03</td>\n",
       "      <td>-5.389641e+02</td>\n",
       "      <td>-0.000000</td>\n",
       "    </tr>\n",
       "    <tr>\n",
       "      <td>cylindernumber_four</td>\n",
       "      <td>6.791031e+03</td>\n",
       "      <td>-5.617690e+02</td>\n",
       "      <td>-202.474073</td>\n",
       "    </tr>\n",
       "    <tr>\n",
       "      <td>cylindernumber_six</td>\n",
       "      <td>1.392741e+03</td>\n",
       "      <td>-2.242438e+02</td>\n",
       "      <td>-0.000000</td>\n",
       "    </tr>\n",
       "    <tr>\n",
       "      <td>cylindernumber_three</td>\n",
       "      <td>1.788084e+03</td>\n",
       "      <td>3.309590e+02</td>\n",
       "      <td>197.707123</td>\n",
       "    </tr>\n",
       "    <tr>\n",
       "      <td>cylindernumber_twelve</td>\n",
       "      <td>-1.049556e+03</td>\n",
       "      <td>-3.412923e+02</td>\n",
       "      <td>-0.000000</td>\n",
       "    </tr>\n",
       "    <tr>\n",
       "      <td>cylindernumber_two</td>\n",
       "      <td>2.035442e+03</td>\n",
       "      <td>1.312768e+02</td>\n",
       "      <td>0.000000</td>\n",
       "    </tr>\n",
       "    <tr>\n",
       "      <td>fuelsystem_2bbl</td>\n",
       "      <td>4.508754e+02</td>\n",
       "      <td>9.039420e+01</td>\n",
       "      <td>-0.000000</td>\n",
       "    </tr>\n",
       "    <tr>\n",
       "      <td>fuelsystem_4bbl</td>\n",
       "      <td>-1.642993e+02</td>\n",
       "      <td>-1.929321e+02</td>\n",
       "      <td>-0.000000</td>\n",
       "    </tr>\n",
       "    <tr>\n",
       "      <td>fuelsystem_idi</td>\n",
       "      <td>1.206836e+03</td>\n",
       "      <td>2.366046e+02</td>\n",
       "      <td>58.814244</td>\n",
       "    </tr>\n",
       "    <tr>\n",
       "      <td>fuelsystem_mfi</td>\n",
       "      <td>9.208634e-12</td>\n",
       "      <td>-2.064855e-28</td>\n",
       "      <td>-0.000000</td>\n",
       "    </tr>\n",
       "    <tr>\n",
       "      <td>fuelsystem_mpfi</td>\n",
       "      <td>-2.089269e+02</td>\n",
       "      <td>-6.351497e+01</td>\n",
       "      <td>0.000000</td>\n",
       "    </tr>\n",
       "    <tr>\n",
       "      <td>fuelsystem_spdi</td>\n",
       "      <td>-5.838745e+01</td>\n",
       "      <td>-1.254176e+02</td>\n",
       "      <td>-0.000000</td>\n",
       "    </tr>\n",
       "    <tr>\n",
       "      <td>fuelsystem_spfi</td>\n",
       "      <td>-4.320100e-12</td>\n",
       "      <td>-2.064855e-28</td>\n",
       "      <td>-0.000000</td>\n",
       "    </tr>\n",
       "    <tr>\n",
       "      <td>car_company_audi</td>\n",
       "      <td>5.215739e+02</td>\n",
       "      <td>3.663355e+02</td>\n",
       "      <td>186.356852</td>\n",
       "    </tr>\n",
       "    <tr>\n",
       "      <td>car_company_bmw</td>\n",
       "      <td>2.395041e+03</td>\n",
       "      <td>1.540823e+03</td>\n",
       "      <td>1805.301240</td>\n",
       "    </tr>\n",
       "    <tr>\n",
       "      <td>car_company_buick</td>\n",
       "      <td>3.767935e+02</td>\n",
       "      <td>1.040530e+03</td>\n",
       "      <td>1210.729363</td>\n",
       "    </tr>\n",
       "    <tr>\n",
       "      <td>car_company_chevrolet</td>\n",
       "      <td>-1.833264e+02</td>\n",
       "      <td>-1.838807e+02</td>\n",
       "      <td>0.000000</td>\n",
       "    </tr>\n",
       "    <tr>\n",
       "      <td>car_company_dodge</td>\n",
       "      <td>-6.984062e+02</td>\n",
       "      <td>-4.321445e+02</td>\n",
       "      <td>-0.000000</td>\n",
       "    </tr>\n",
       "    <tr>\n",
       "      <td>car_company_honda</td>\n",
       "      <td>-5.197495e+02</td>\n",
       "      <td>-3.655038e+02</td>\n",
       "      <td>-0.000000</td>\n",
       "    </tr>\n",
       "    <tr>\n",
       "      <td>car_company_isuzu</td>\n",
       "      <td>6.033201e+01</td>\n",
       "      <td>-6.644244e+01</td>\n",
       "      <td>78.542972</td>\n",
       "    </tr>\n",
       "    <tr>\n",
       "      <td>car_company_jaguar</td>\n",
       "      <td>-4.922119e+02</td>\n",
       "      <td>8.304768e+02</td>\n",
       "      <td>796.296128</td>\n",
       "    </tr>\n",
       "    <tr>\n",
       "      <td>car_company_mazda</td>\n",
       "      <td>3.108136e+02</td>\n",
       "      <td>-2.681597e+02</td>\n",
       "      <td>0.000000</td>\n",
       "    </tr>\n",
       "    <tr>\n",
       "      <td>car_company_mercury</td>\n",
       "      <td>-6.821210e-13</td>\n",
       "      <td>-2.064855e-28</td>\n",
       "      <td>-0.000000</td>\n",
       "    </tr>\n",
       "    <tr>\n",
       "      <td>car_company_mitsubishi</td>\n",
       "      <td>-1.059647e+03</td>\n",
       "      <td>-7.101039e+02</td>\n",
       "      <td>-397.804113</td>\n",
       "    </tr>\n",
       "    <tr>\n",
       "      <td>car_company_nissan</td>\n",
       "      <td>3.611452e+02</td>\n",
       "      <td>-4.243100e+02</td>\n",
       "      <td>-58.198149</td>\n",
       "    </tr>\n",
       "    <tr>\n",
       "      <td>car_company_peugeot</td>\n",
       "      <td>-4.855527e+02</td>\n",
       "      <td>-3.224531e+02</td>\n",
       "      <td>-377.782562</td>\n",
       "    </tr>\n",
       "    <tr>\n",
       "      <td>car_company_plymouth</td>\n",
       "      <td>-6.842026e+02</td>\n",
       "      <td>-3.352563e+02</td>\n",
       "      <td>-0.000000</td>\n",
       "    </tr>\n",
       "    <tr>\n",
       "      <td>car_company_porsche</td>\n",
       "      <td>1.443930e+03</td>\n",
       "      <td>5.941166e+02</td>\n",
       "      <td>592.062742</td>\n",
       "    </tr>\n",
       "    <tr>\n",
       "      <td>car_company_renault</td>\n",
       "      <td>-3.478760e+01</td>\n",
       "      <td>-2.272212e+02</td>\n",
       "      <td>-163.738474</td>\n",
       "    </tr>\n",
       "    <tr>\n",
       "      <td>car_company_saab</td>\n",
       "      <td>1.332856e+03</td>\n",
       "      <td>2.125101e+02</td>\n",
       "      <td>95.371394</td>\n",
       "    </tr>\n",
       "    <tr>\n",
       "      <td>car_company_subaru</td>\n",
       "      <td>4.085943e+02</td>\n",
       "      <td>-4.625835e+02</td>\n",
       "      <td>-198.092990</td>\n",
       "    </tr>\n",
       "    <tr>\n",
       "      <td>car_company_toyota</td>\n",
       "      <td>2.669785e+02</td>\n",
       "      <td>-5.922028e+02</td>\n",
       "      <td>-233.827948</td>\n",
       "    </tr>\n",
       "    <tr>\n",
       "      <td>car_company_volkswagen</td>\n",
       "      <td>2.566354e+02</td>\n",
       "      <td>-1.244676e+02</td>\n",
       "      <td>0.000000</td>\n",
       "    </tr>\n",
       "    <tr>\n",
       "      <td>car_company_volvo</td>\n",
       "      <td>9.974537e+02</td>\n",
       "      <td>1.728037e+00</td>\n",
       "      <td>206.400387</td>\n",
       "    </tr>\n",
       "  </tbody>\n",
       "</table>\n",
       "</div>"
      ],
      "text/plain": [
       "                              Linear         Ridge        Lasso\n",
       "wheelbase               1.288048e+03  3.664396e+02     0.000000\n",
       "carlength              -1.049552e+03 -3.847333e+01    -0.000000\n",
       "carwidth                1.688346e+03  1.483859e+03  1747.105224\n",
       "carheight              -1.259041e+03 -4.288714e+02   -82.231838\n",
       "curbweight              2.420271e+03  1.325089e+03  1780.641731\n",
       "enginesize              1.162634e+04  1.532325e+03   788.288078\n",
       "boreratio              -4.850390e+03 -1.323537e+02    -0.000000\n",
       "stroke                 -1.134241e+03 -3.439612e+02    -0.000000\n",
       "compressionratio       -2.569520e+03 -3.859912e+01     0.000000\n",
       "horsepower             -9.736448e+02  1.002745e+03  1017.488201\n",
       "peakrpm                 1.356814e+03  4.085305e+02    84.896333\n",
       "citympg                -2.618185e+02  3.062267e+01     0.000000\n",
       "highwaympg              7.442396e+02 -3.865730e+01    -0.000000\n",
       "symboling_-1            7.363344e+02  2.802604e+02     0.000000\n",
       "symboling_0             8.018006e+02  2.256897e+02    -0.000000\n",
       "symboling_1             7.023602e+02  1.152324e+02    -0.000000\n",
       "symboling_2             6.477508e+02  3.111727e+01     0.000000\n",
       "symboling_3             3.505586e+02  2.209993e+02   246.519852\n",
       "fueltype_gas           -1.206836e+03 -2.366046e+02   -73.385729\n",
       "aspiration_turbo        1.012485e+03  4.371467e+02   120.567906\n",
       "doornumber_two         -2.333860e+02  8.112011e+01     0.000000\n",
       "carbody_hardtop        -7.692804e+02 -4.177617e+01     0.000000\n",
       "carbody_hatchback      -1.836410e+03 -6.363037e+02  -187.607489\n",
       "carbody_sedan          -1.661628e+03 -3.895258e+02     0.000000\n",
       "carbody_wagon          -9.125663e+02 -2.678659e+02   -96.254126\n",
       "drivewheel_fwd         -9.289439e+01 -2.256948e+02  -134.392273\n",
       "drivewheel_rwd          4.428166e+02  2.173046e+02   294.272275\n",
       "enginelocation_rear     1.156659e+03  1.013311e+03  1218.022811\n",
       "enginetype_dohcv        5.505574e+02 -7.997198e+01     0.000000\n",
       "enginetype_l            6.459721e+01 -2.112996e+02    -0.000000\n",
       "enginetype_ohc          1.559372e+02  3.806331e+02     0.000000\n",
       "enginetype_ohcf         9.016901e+02  5.025699e+01    -0.000000\n",
       "enginetype_ohcv        -2.895875e+02 -2.684900e+01    -0.000000\n",
       "enginetype_rotor        2.035442e+03  1.312768e+02     0.000000\n",
       "cylindernumber_five     2.201371e+03 -5.389641e+02    -0.000000\n",
       "cylindernumber_four     6.791031e+03 -5.617690e+02  -202.474073\n",
       "cylindernumber_six      1.392741e+03 -2.242438e+02    -0.000000\n",
       "cylindernumber_three    1.788084e+03  3.309590e+02   197.707123\n",
       "cylindernumber_twelve  -1.049556e+03 -3.412923e+02    -0.000000\n",
       "cylindernumber_two      2.035442e+03  1.312768e+02     0.000000\n",
       "fuelsystem_2bbl         4.508754e+02  9.039420e+01    -0.000000\n",
       "fuelsystem_4bbl        -1.642993e+02 -1.929321e+02    -0.000000\n",
       "fuelsystem_idi          1.206836e+03  2.366046e+02    58.814244\n",
       "fuelsystem_mfi          9.208634e-12 -2.064855e-28    -0.000000\n",
       "fuelsystem_mpfi        -2.089269e+02 -6.351497e+01     0.000000\n",
       "fuelsystem_spdi        -5.838745e+01 -1.254176e+02    -0.000000\n",
       "fuelsystem_spfi        -4.320100e-12 -2.064855e-28    -0.000000\n",
       "car_company_audi        5.215739e+02  3.663355e+02   186.356852\n",
       "car_company_bmw         2.395041e+03  1.540823e+03  1805.301240\n",
       "car_company_buick       3.767935e+02  1.040530e+03  1210.729363\n",
       "car_company_chevrolet  -1.833264e+02 -1.838807e+02     0.000000\n",
       "car_company_dodge      -6.984062e+02 -4.321445e+02    -0.000000\n",
       "car_company_honda      -5.197495e+02 -3.655038e+02    -0.000000\n",
       "car_company_isuzu       6.033201e+01 -6.644244e+01    78.542972\n",
       "car_company_jaguar     -4.922119e+02  8.304768e+02   796.296128\n",
       "car_company_mazda       3.108136e+02 -2.681597e+02     0.000000\n",
       "car_company_mercury    -6.821210e-13 -2.064855e-28    -0.000000\n",
       "car_company_mitsubishi -1.059647e+03 -7.101039e+02  -397.804113\n",
       "car_company_nissan      3.611452e+02 -4.243100e+02   -58.198149\n",
       "car_company_peugeot    -4.855527e+02 -3.224531e+02  -377.782562\n",
       "car_company_plymouth   -6.842026e+02 -3.352563e+02    -0.000000\n",
       "car_company_porsche     1.443930e+03  5.941166e+02   592.062742\n",
       "car_company_renault    -3.478760e+01 -2.272212e+02  -163.738474\n",
       "car_company_saab        1.332856e+03  2.125101e+02    95.371394\n",
       "car_company_subaru      4.085943e+02 -4.625835e+02  -198.092990\n",
       "car_company_toyota      2.669785e+02 -5.922028e+02  -233.827948\n",
       "car_company_volkswagen  2.566354e+02 -1.244676e+02     0.000000\n",
       "car_company_volvo       9.974537e+02  1.728037e+00   206.400387"
      ]
     },
     "execution_count": 54,
     "metadata": {},
     "output_type": "execute_result"
    }
   ],
   "source": [
    "pd.set_option('display.max_rows', None)\n",
    "betas.head(68)"
   ]
  },
  {
   "cell_type": "code",
   "execution_count": null,
   "metadata": {
    "id": "uSeLFaY4hiwW"
   },
   "outputs": [],
   "source": []
  }
 ],
 "metadata": {
  "colab": {
   "name": "Car Price Prediction.ipynb",
   "provenance": []
  },
  "kernelspec": {
   "display_name": "Python 3",
   "language": "python",
   "name": "python3"
  },
  "language_info": {
   "codemirror_mode": {
    "name": "ipython",
    "version": 3
   },
   "file_extension": ".py",
   "mimetype": "text/x-python",
   "name": "python",
   "nbconvert_exporter": "python",
   "pygments_lexer": "ipython3",
   "version": "3.7.4"
  }
 },
 "nbformat": 4,
 "nbformat_minor": 1
}
